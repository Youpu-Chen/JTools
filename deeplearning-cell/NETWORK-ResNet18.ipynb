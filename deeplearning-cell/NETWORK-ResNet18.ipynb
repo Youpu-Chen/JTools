{
 "cells": [
  {
   "cell_type": "code",
   "execution_count": 2,
   "id": "9b13f8d9",
   "metadata": {},
   "outputs": [],
   "source": [
    "import os\n",
    "# torch\n",
    "import torch.utils.data\n",
    "from torch.utils.data import Dataset, DataLoader\n",
    "import torch.nn as nn\n",
    "from torch.nn import functional as F\n",
    "from torch import optim\n",
    "\n",
    "# torchvision\n",
    "import torchvision\n",
    "from torchvision import transforms"
   ]
  },
  {
   "cell_type": "code",
   "execution_count": 3,
   "id": "daf9b893",
   "metadata": {},
   "outputs": [],
   "source": [
    "import numpy as np\n",
    "import matplotlib.pyplot as plt"
   ]
  },
  {
   "cell_type": "code",
   "execution_count": 53,
   "id": "0d688118",
   "metadata": {},
   "outputs": [],
   "source": [
    "# Preset parameters\n",
    "BATCH_SIZE = 64\n",
    "learning_rate = 1e-2\n",
    "keep_prob = 0.7"
   ]
  },
  {
   "cell_type": "code",
   "execution_count": 54,
   "id": "999c167d",
   "metadata": {},
   "outputs": [],
   "source": [
    "# Load datasets\n",
    "# tf = transforms.Compose([transforms.ToTensor(), transforms.Resize((64,64))])  # 转为张量数据，同时resize为64*64\n",
    "tf = transforms.Compose([transforms.ToTensor(), transforms.Resize([28, 28])])  # 转为张量数据，同时resize为28*28\n",
    "db = torchvision.datasets.ImageFolder(root = 'data', transform = tf) "
   ]
  },
  {
   "cell_type": "code",
   "execution_count": 55,
   "id": "03b7a635",
   "metadata": {},
   "outputs": [
    {
     "data": {
      "text/plain": [
       "Dataset ImageFolder\n",
       "    Number of datapoints: 27558\n",
       "    Root location: data\n",
       "    StandardTransform\n",
       "Transform: Compose(\n",
       "               ToTensor()\n",
       "               Resize(size=[28, 28], interpolation=bilinear, max_size=None, antialias=None)\n",
       "           )"
      ]
     },
     "execution_count": 55,
     "metadata": {},
     "output_type": "execute_result"
    }
   ],
   "source": [
    "# Chekc info\n",
    "db"
   ]
  },
  {
   "cell_type": "code",
   "execution_count": 56,
   "id": "20c075b2",
   "metadata": {},
   "outputs": [],
   "source": [
    "# ### Spliting\n",
    "# unsplit_data, test_data = torch.utils.data.random_split(db, [19290, 8268])\n",
    "# train_data, val_data = torch.utils.data.random_split(unsplit_data, [12860, 6430])\n",
    "\n",
    "# # Retrieving\n",
    "# train_loader = torch.utils.data.DataLoader(dataset = train_data, batch_size = BATCH_SIZE, shuffle = True)\n",
    "# validation_loader = torch.utils.data.DataLoader(dataset = val_data, batch_size = BATCH_SIZE, shuffle = False)\n",
    "# test_loader = torch.utils.data.DataLoader(dataset = test_data, batch_size = BATCH_SIZE, shuffle = False)"
   ]
  },
  {
   "cell_type": "code",
   "execution_count": 57,
   "id": "92e587d3",
   "metadata": {},
   "outputs": [],
   "source": [
    "### Stratified spliting\n",
    "from sklearn.model_selection import train_test_split"
   ]
  },
  {
   "cell_type": "code",
   "execution_count": 58,
   "id": "9bd9ac43",
   "metadata": {},
   "outputs": [],
   "source": [
    "targets = db.targets\n",
    "\n",
    "train_idx, test_idx= train_test_split(np.arange(len(targets)), train_size=(0.7*2/3), test_size=0.3, shuffle=True, stratify=targets)\n",
    "validate_idx = np.setdiff1d(np.arange(len(targets)), np.union1d(train_idx, test_idx))\n",
    "\n",
    "# train_sampler = torch.utils.data.SubsetRandomSampler(train_idx)\n",
    "# validate_sampler = torch.utils.data.SubsetRandomSampler(train_idx)\n",
    "# test_sampler = torch.utils.data.SubsetRandomSampler(test_idx)\n",
    "\n",
    "train_data = torch.utils.data.Subset(db, train_idx)\n",
    "test_data = torch.utils.data.Subset(db, test_idx)\n",
    "validate_data = torch.utils.data.Subset(db, validate_idx)"
   ]
  },
  {
   "cell_type": "code",
   "execution_count": 59,
   "id": "36a528e1",
   "metadata": {},
   "outputs": [
    {
     "name": "stdout",
     "output_type": "stream",
     "text": [
      "The train dataset: 12860,0.47\n",
      "The validate dataset: 6430, 0.23\n",
      "The test dataset: 8268, 0.30\n",
      "total length: 27558\n"
     ]
    }
   ],
   "source": [
    "tt = len(train_idx) + len(validate_idx) + len(test_idx)\n",
    "\n",
    "print(f'''The train dataset: {len(train_idx)},{len(train_idx)/tt:.2f}\n",
    "The validate dataset: {len(validate_idx)}, {len(validate_idx)/tt:.2f}\n",
    "The test dataset: {len(test_idx)}, {len(test_idx)/tt:.2f}\n",
    "total length: {tt}''')"
   ]
  },
  {
   "cell_type": "code",
   "execution_count": 60,
   "id": "3db9b51a",
   "metadata": {},
   "outputs": [
    {
     "data": {
      "text/plain": [
       "6430"
      ]
     },
     "execution_count": 60,
     "metadata": {},
     "output_type": "execute_result"
    }
   ],
   "source": [
    "# 验证拆分结果\n",
    "len(np.setdiff1d(np.arange(len(targets)), np.union1d(train_idx, test_idx)))"
   ]
  },
  {
   "cell_type": "code",
   "execution_count": 61,
   "id": "21bbbb36",
   "metadata": {},
   "outputs": [
    {
     "data": {
      "text/plain": [
       "array([], dtype=int32)"
      ]
     },
     "execution_count": 61,
     "metadata": {},
     "output_type": "execute_result"
    }
   ],
   "source": [
    "# 验证拆分结果\n",
    "np.intersect1d(train_idx, test_idx)"
   ]
  },
  {
   "cell_type": "code",
   "execution_count": 62,
   "id": "164e929c",
   "metadata": {},
   "outputs": [],
   "source": [
    "# train_loader = torch.utils.data.DataLoader(db, batch_size=BATCH_SIZE, sampler=train_sampler)\n",
    "# validate_loader = torch.utils.data.DataLoader(db, batch_size=BATCH_SIZE, sampler=validate_sampler)\n",
    "# test_loader = torch.utils.data.DataLoader(db, batch_size=BATCH_SIZE, sampler=test_sampler)\n",
    "\n",
    "train_loader = torch.utils.data.DataLoader(train_data, batch_size=BATCH_SIZE)\n",
    "validate_loader = torch.utils.data.DataLoader(validate_data, batch_size=BATCH_SIZE)\n",
    "test_loader = torch.utils.data.DataLoader(test_data, batch_size=BATCH_SIZE)"
   ]
  },
  {
   "cell_type": "code",
   "execution_count": 63,
   "id": "a256427e",
   "metadata": {},
   "outputs": [
    {
     "data": {
      "text/plain": [
       "27558"
      ]
     },
     "execution_count": 63,
     "metadata": {},
     "output_type": "execute_result"
    }
   ],
   "source": [
    "len(db.targets)"
   ]
  },
  {
   "cell_type": "code",
   "execution_count": 64,
   "id": "4cd66dbb",
   "metadata": {},
   "outputs": [
    {
     "data": {
      "text/plain": [
       "12860"
      ]
     },
     "execution_count": 64,
     "metadata": {},
     "output_type": "execute_result"
    }
   ],
   "source": [
    "len(train_loader.dataset)"
   ]
  },
  {
   "cell_type": "code",
   "execution_count": 65,
   "id": "7f26d8f6",
   "metadata": {},
   "outputs": [],
   "source": [
    "# ResNet18\n",
    "class ResidualBlock(nn.Module):\n",
    "    def __init__(self, inchannel, outchannel, stride=1):\n",
    "        super(ResidualBlock, self).__init__()\n",
    "        self.left = nn.Sequential(\n",
    "            nn.Conv2d(inchannel, outchannel, kernel_size=3, stride=stride, padding=1, bias=False),\n",
    "            nn.BatchNorm2d(outchannel),\n",
    "            nn.ReLU(inplace=True),\n",
    "            nn.Conv2d(outchannel, outchannel, kernel_size=3, stride=1, padding=1, bias=False),\n",
    "            nn.BatchNorm2d(outchannel)\n",
    "        )\n",
    "        self.shortcut = nn.Sequential()\n",
    "        if stride != 1 or inchannel != outchannel:\n",
    "            self.shortcut = nn.Sequential(\n",
    "                nn.Conv2d(inchannel, outchannel, kernel_size=1, stride=stride, bias=False),\n",
    "                nn.BatchNorm2d(outchannel)\n",
    "            )\n",
    "\n",
    "    def forward(self, x):\n",
    "        out = self.left(x)\n",
    "        out += self.shortcut(x)\n",
    "        out = F.relu(out)\n",
    "        return out\n",
    "\n",
    "class ResNet(nn.Module):\n",
    "    def __init__(self, ResidualBlock, num_classes=2):  # num_classes 10->2\n",
    "        super(ResNet, self).__init__()\n",
    "        self.inchannel = 64\n",
    "        self.conv1 = nn.Sequential(\n",
    "            nn.Conv2d(3, 64, kernel_size=3, stride=1, padding=1, bias=False),\n",
    "            nn.BatchNorm2d(64),\n",
    "            nn.ReLU(),\n",
    "        )\n",
    "        self.layer1 = self.make_layer(ResidualBlock, 64,  2, stride=1)\n",
    "        self.layer2 = self.make_layer(ResidualBlock, 128, 2, stride=2)\n",
    "        self.layer3 = self.make_layer(ResidualBlock, 256, 2, stride=2)\n",
    "        self.layer4 = self.make_layer(ResidualBlock, 512, 2, stride=2)\n",
    "        self.fc = nn.Linear(512, num_classes)\n",
    "\n",
    "    def make_layer(self, block, channels, num_blocks, stride):\n",
    "        strides = [stride] + [1] * (num_blocks - 1)   #strides=[1,1]\n",
    "        layers = []\n",
    "        for stride in strides:\n",
    "            layers.append(block(self.inchannel, channels, stride))\n",
    "            self.inchannel = channels\n",
    "        return nn.Sequential(*layers)\n",
    "\n",
    "    def forward(self, x):\n",
    "        out = self.conv1(x)\n",
    "        out = self.layer1(out)\n",
    "        out = self.layer2(out)\n",
    "        out = self.layer3(out)\n",
    "        out = self.layer4(out)\n",
    "        out = F.avg_pool2d(out, 4)\n",
    "        out = out.view(out.size(0), -1)\n",
    "        out = self.fc(out)\n",
    "        return out\n",
    "\n",
    "\n",
    "def ResNet18():\n",
    "    return ResNet(ResidualBlock)"
   ]
  },
  {
   "cell_type": "code",
   "execution_count": 66,
   "id": "f742ef7f",
   "metadata": {},
   "outputs": [],
   "source": [
    "model = ResNet18()"
   ]
  },
  {
   "cell_type": "code",
   "execution_count": 67,
   "id": "f3be73f9",
   "metadata": {},
   "outputs": [],
   "source": [
    "#  optimizer & loss function\n",
    "optimizer = optim.SGD(model.parameters(), lr=learning_rate, momentum=0.9)\n",
    "loss_function = nn.CrossEntropyLoss()"
   ]
  },
  {
   "cell_type": "code",
   "execution_count": 68,
   "id": "3ddcb19b",
   "metadata": {},
   "outputs": [],
   "source": [
    "def train(\n",
    "    model,\n",
    "    data_loader,\n",
    "    optimizer,\n",
    "    loss_function,\n",
    "    epoch,\n",
    "    log_interval=200    # print out info every 200 batches\n",
    "):\n",
    "    model.train()\n",
    "    for batch_idx, (x, label) in enumerate(data_loader):\n",
    "        \n",
    "        optimizer.zero_grad()\n",
    "        output = model(x)\n",
    "        loss = loss_function(output, label)\n",
    "        loss.backward()\n",
    "        optimizer.step()\n",
    "        if batch_idx % log_interval == 0:\n",
    "            print(\"Train Epoch: {} [{}/{} ({:.0f}%)]\\tLoss: {:.6f}\".format(\n",
    "                epoch, batch_idx*len(x), len(data_loader.dataset),\n",
    "                100. * batch_idx/len(data_loader), loss.data.item()\n",
    "                # \"batch_idx/len(data_loader)\" = 当前的batch index除以batch总数\n",
    "            ))"
   ]
  },
  {
   "cell_type": "code",
   "execution_count": 69,
   "id": "aee42921",
   "metadata": {},
   "outputs": [],
   "source": [
    "def validate(\n",
    "    model, \n",
    "    data_loader,\n",
    "    loss_function,\n",
    "    epoch,\n",
    "    loss_vector,\n",
    "    accuracy_vector\n",
    "):\n",
    "    '''applied at train dataset as well as validate dataset'''\n",
    "    model.eval()\n",
    "    loss, correct = 0, 0\n",
    "    for x, label in data_loader: # retrieve tensor dataset and label\n",
    "        output = model(x)\n",
    "        loss += loss_function(output, label).data.item()   # \"loss_function\" is pre-defined, which should be applied in this section\n",
    "        pred = output.data.max(1)[1]\n",
    "        correct += pred.eq(label.data).cpu().sum()\n",
    "    \n",
    "    # save cal\n",
    "    loss /= len(data_loader)\n",
    "#     print(data_loader.dataset)\n",
    "    loss_vector.append(loss) # for plotting\n",
    "    accuracy = 100. * correct.to(torch.float32) / len(data_loader.dataset)\n",
    "    accuracy_vector.append(accuracy)\n",
    "    print('Average loss: {:.4f}, Accuracy: {}/{} ({:.0f}%)\\n'.format(\n",
    "        loss, correct, len(data_loader.dataset), accuracy\n",
    "    ))"
   ]
  },
  {
   "cell_type": "code",
   "execution_count": 70,
   "id": "7b1c298a",
   "metadata": {},
   "outputs": [],
   "source": [
    "def main(model, train_loader, validate_loader, optimizer, loss_function, num_epochs):\n",
    "    lossv, accv = [], []\n",
    "    train_lossv, train_accv = [], []\n",
    "    for epoch in range(1, num_epochs+1):\n",
    "        train(model, train_loader, optimizer, loss_function, epoch)\n",
    "        print(\"Train set:\")\n",
    "        validate(model, train_loader, loss_function, epoch, train_lossv, train_accv)\n",
    "        print(\"Validate set:\")\n",
    "        validate(model, validate_loader, loss_function, epoch, lossv, accv)\n",
    "    return {'validate':[lossv, accv], 'train':[train_lossv, train_accv]}"
   ]
  },
  {
   "cell_type": "code",
   "execution_count": 71,
   "id": "4ee46a45",
   "metadata": {
    "scrolled": true
   },
   "outputs": [
    {
     "name": "stdout",
     "output_type": "stream",
     "text": [
      "Train Epoch: 1 [0/12860 (0%)]\tLoss: 0.793887\n",
      "Train Epoch: 1 [12000/12860 (100%)]\tLoss: 0.082369\n",
      "Train set:\n",
      "Average loss: 0.1506, Accuracy: 12206/12860 (95%)\n",
      "\n",
      "Validate set:\n",
      "Average loss: 0.1589, Accuracy: 6085/6430 (95%)\n",
      "\n",
      "Train Epoch: 2 [0/12860 (0%)]\tLoss: 0.162016\n",
      "Train Epoch: 2 [12000/12860 (100%)]\tLoss: 0.054965\n",
      "Train set:\n",
      "Average loss: 0.1096, Accuracy: 12380/12860 (96%)\n",
      "\n",
      "Validate set:\n",
      "Average loss: 0.1296, Accuracy: 6145/6430 (96%)\n",
      "\n",
      "Train Epoch: 3 [0/12860 (0%)]\tLoss: 0.136433\n",
      "Train Epoch: 3 [12000/12860 (100%)]\tLoss: 0.042880\n",
      "Train set:\n",
      "Average loss: 0.0989, Accuracy: 12395/12860 (96%)\n",
      "\n",
      "Validate set:\n",
      "Average loss: 0.1286, Accuracy: 6154/6430 (96%)\n",
      "\n",
      "Train Epoch: 4 [0/12860 (0%)]\tLoss: 0.111710\n",
      "Train Epoch: 4 [12000/12860 (100%)]\tLoss: 0.034764\n",
      "Train set:\n",
      "Average loss: 0.0834, Accuracy: 12494/12860 (97%)\n",
      "\n",
      "Validate set:\n",
      "Average loss: 0.1287, Accuracy: 6155/6430 (96%)\n",
      "\n",
      "Train Epoch: 5 [0/12860 (0%)]\tLoss: 0.088515\n",
      "Train Epoch: 5 [12000/12860 (100%)]\tLoss: 0.027115\n",
      "Train set:\n",
      "Average loss: 0.0827, Accuracy: 12459/12860 (97%)\n",
      "\n",
      "Validate set:\n",
      "Average loss: 0.1335, Accuracy: 6150/6430 (96%)\n",
      "\n",
      "Train Epoch: 6 [0/12860 (0%)]\tLoss: 0.069282\n",
      "Train Epoch: 6 [12000/12860 (100%)]\tLoss: 0.028113\n",
      "Train set:\n",
      "Average loss: 0.0842, Accuracy: 12465/12860 (97%)\n",
      "\n",
      "Validate set:\n",
      "Average loss: 0.1444, Accuracy: 6138/6430 (95%)\n",
      "\n",
      "Train Epoch: 7 [0/12860 (0%)]\tLoss: 0.063558\n",
      "Train Epoch: 7 [12000/12860 (100%)]\tLoss: 0.020111\n",
      "Train set:\n",
      "Average loss: 0.1005, Accuracy: 12457/12860 (97%)\n",
      "\n",
      "Validate set:\n",
      "Average loss: 0.1692, Accuracy: 6116/6430 (95%)\n",
      "\n",
      "Train Epoch: 8 [0/12860 (0%)]\tLoss: 0.057270\n",
      "Train Epoch: 8 [12000/12860 (100%)]\tLoss: 0.011178\n",
      "Train set:\n",
      "Average loss: 0.1191, Accuracy: 12222/12860 (95%)\n",
      "\n",
      "Validate set:\n",
      "Average loss: 0.2132, Accuracy: 5939/6430 (92%)\n",
      "\n",
      "Train Epoch: 9 [0/12860 (0%)]\tLoss: 0.027094\n",
      "Train Epoch: 9 [12000/12860 (100%)]\tLoss: 0.027658\n",
      "Train set:\n",
      "Average loss: 0.0763, Accuracy: 12504/12860 (97%)\n",
      "\n",
      "Validate set:\n",
      "Average loss: 0.2164, Accuracy: 6073/6430 (94%)\n",
      "\n",
      "Train Epoch: 10 [0/12860 (0%)]\tLoss: 0.082319\n",
      "Train Epoch: 10 [12000/12860 (100%)]\tLoss: 0.005983\n",
      "Train set:\n",
      "Average loss: 0.0978, Accuracy: 12562/12860 (98%)\n",
      "\n",
      "Validate set:\n",
      "Average loss: 0.2870, Accuracy: 6147/6430 (96%)\n",
      "\n",
      "Train Epoch: 11 [0/12860 (0%)]\tLoss: 0.053348\n",
      "Train Epoch: 11 [12000/12860 (100%)]\tLoss: 0.001469\n",
      "Train set:\n",
      "Average loss: 0.0422, Accuracy: 12679/12860 (99%)\n",
      "\n",
      "Validate set:\n",
      "Average loss: 0.2582, Accuracy: 6141/6430 (96%)\n",
      "\n",
      "Train Epoch: 12 [0/12860 (0%)]\tLoss: 0.035362\n",
      "Train Epoch: 12 [12000/12860 (100%)]\tLoss: 0.002744\n",
      "Train set:\n",
      "Average loss: 0.0525, Accuracy: 12662/12860 (98%)\n",
      "\n",
      "Validate set:\n",
      "Average loss: 0.2575, Accuracy: 6131/6430 (95%)\n",
      "\n",
      "Train Epoch: 13 [0/12860 (0%)]\tLoss: 0.003784\n",
      "Train Epoch: 13 [12000/12860 (100%)]\tLoss: 0.016388\n",
      "Train set:\n",
      "Average loss: 0.0497, Accuracy: 12633/12860 (98%)\n",
      "\n",
      "Validate set:\n",
      "Average loss: 0.3026, Accuracy: 6099/6430 (95%)\n",
      "\n",
      "Train Epoch: 14 [0/12860 (0%)]\tLoss: 0.013617\n",
      "Train Epoch: 14 [12000/12860 (100%)]\tLoss: 0.000788\n",
      "Train set:\n",
      "Average loss: 0.0253, Accuracy: 12748/12860 (99%)\n",
      "\n",
      "Validate set:\n",
      "Average loss: 0.2530, Accuracy: 6131/6430 (95%)\n",
      "\n",
      "Train Epoch: 15 [0/12860 (0%)]\tLoss: 0.046873\n",
      "Train Epoch: 15 [12000/12860 (100%)]\tLoss: 0.014638\n",
      "Train set:\n",
      "Average loss: 0.0376, Accuracy: 12706/12860 (99%)\n",
      "\n",
      "Validate set:\n",
      "Average loss: 0.2694, Accuracy: 6097/6430 (95%)\n",
      "\n",
      "Train Epoch: 16 [0/12860 (0%)]\tLoss: 0.018719\n",
      "Train Epoch: 16 [12000/12860 (100%)]\tLoss: 0.001121\n",
      "Train set:\n",
      "Average loss: 0.0097, Accuracy: 12817/12860 (100%)\n",
      "\n",
      "Validate set:\n",
      "Average loss: 0.2656, Accuracy: 6155/6430 (96%)\n",
      "\n",
      "Train Epoch: 17 [0/12860 (0%)]\tLoss: 0.000763\n",
      "Train Epoch: 17 [12000/12860 (100%)]\tLoss: 0.000112\n",
      "Train set:\n",
      "Average loss: 0.0090, Accuracy: 12819/12860 (100%)\n",
      "\n",
      "Validate set:\n",
      "Average loss: 0.2935, Accuracy: 6158/6430 (96%)\n",
      "\n",
      "Train Epoch: 18 [0/12860 (0%)]\tLoss: 0.001738\n",
      "Train Epoch: 18 [12000/12860 (100%)]\tLoss: 0.000084\n",
      "Train set:\n",
      "Average loss: 0.0183, Accuracy: 12785/12860 (99%)\n",
      "\n",
      "Validate set:\n",
      "Average loss: 0.3246, Accuracy: 6155/6430 (96%)\n",
      "\n",
      "Train Epoch: 19 [0/12860 (0%)]\tLoss: 0.000405\n",
      "Train Epoch: 19 [12000/12860 (100%)]\tLoss: 0.001718\n",
      "Train set:\n",
      "Average loss: 0.0113, Accuracy: 12811/12860 (100%)\n",
      "\n",
      "Validate set:\n",
      "Average loss: 0.3133, Accuracy: 6128/6430 (95%)\n",
      "\n",
      "Train Epoch: 20 [0/12860 (0%)]\tLoss: 0.000446\n",
      "Train Epoch: 20 [12000/12860 (100%)]\tLoss: 0.000585\n",
      "Train set:\n",
      "Average loss: 0.0052, Accuracy: 12838/12860 (100%)\n",
      "\n",
      "Validate set:\n",
      "Average loss: 0.3117, Accuracy: 6164/6430 (96%)\n",
      "\n"
     ]
    }
   ],
   "source": [
    "# info_dict = main(model, train_loader, validate_loader, optimizer, loss_function, 50)\n",
    "info_dict = main(model, train_loader, validate_loader, optimizer, loss_function, 20)"
   ]
  },
  {
   "cell_type": "code",
   "execution_count": 81,
   "id": "19d8c1a8",
   "metadata": {},
   "outputs": [],
   "source": [
    "from matplotlib import font_manager\n",
    "\n",
    "config = {\n",
    "    \"font.family\":'Times New Roman', # sans-serif/serif/cursive/fantasy/monospace\n",
    "    \"font.size\": 15, # medium/large/small\n",
    "    'font.style':'normal', # normal/italic/oblique\n",
    "    'font.weight':'normal', # bold\n",
    "    \"mathtext.fontset\":'cm',# 'cm' (Computer Modern)\n",
    "    \"font.serif\": ['cmb10'], # 'Simsun'宋体\n",
    "    \"axes.unicode_minus\": False,# 用来正常显示负号\n",
    "}\n",
    "\n",
    "# plot\n",
    "def EA_curve(train_loss_vector, validate_loss_vector, train_acc_vector, validate_acc_vector, num_epochs):\n",
    "    plt.figure(figsize=(5, 3))\n",
    "    plt.rcParams.update(config)\n",
    "    plt.plot(np.arange(1, num_epochs+1), train_loss_vector, label=\"Train error\", color='r')\n",
    "    plt.plot(np.arange(1, num_epochs+1), validate_loss_vector, label=\"Validation error\", color='blue')\n",
    "    plt.title(\"Error\")\n",
    "    plt.legend(loc=\"best\")\n",
    "    plt.xlabel(\"Epoch\")\n",
    "    plt.ylabel(\"Error\")\n",
    "    \n",
    "    plt.figure(figsize=(5,3))\n",
    "    plt.plot(np.arange(1,num_epochs+1), train_acc_vector,label=\"Train accuracy\", color='r')\n",
    "    plt.plot(np.arange(1,num_epochs+1), validate_acc_vector,label=\"Validation accuracy\", color='blue')\n",
    "    plt.title('Accuracy')\n",
    "    plt.legend(loc = \"best\")\n",
    "    plt.xlabel(\"Epoch\")\n",
    "    plt.ylabel(\"Accuracy\")"
   ]
  },
  {
   "cell_type": "code",
   "execution_count": 82,
   "id": "45de2875",
   "metadata": {},
   "outputs": [
    {
     "data": {
      "image/png": "[encoded data removed]",
      "text/plain": [
       "<Figure size 500x300 with 1 Axes>"
      ]
     },
     "metadata": {},
     "output_type": "display_data"
    },
    {
     "data": {
      "image/png": "[encoded data removed]",
      "text/plain": [
       "<Figure size 500x300 with 1 Axes>"
      ]
     },
     "metadata": {},
     "output_type": "display_data"
    }
   ],
   "source": [
    "EA_curve(info_dict['train'][0], info_dict['validate'][0], info_dict['train'][1], info_dict['validate'][1], 20)"
   ]
  },
  {
   "cell_type": "code",
   "execution_count": 74,
   "id": "d3ec8115",
   "metadata": {},
   "outputs": [
    {
     "data": {
      "text/plain": [
       "[0.1588760218997993,\n",
       " 0.1295646803803963,\n",
       " 0.1286172537999873,\n",
       " 0.12868428205388902,\n",
       " 0.1334761469163886,\n",
       " 0.14444230670123223,\n",
       " 0.16918016526511512,\n",
       " 0.21321335026998958,\n",
       " 0.21644347649004822,\n",
       " 0.2870068361360551,\n",
       " 0.2581876859398522,\n",
       " 0.2575381774911578,\n",
       " 0.3025525664719914,\n",
       " 0.2530408703937025,\n",
       " 0.2694072206377854,\n",
       " 0.26556291576981483,\n",
       " 0.29346559137051337,\n",
       " 0.32464309827945287,\n",
       " 0.31329615329136373,\n",
       " 0.31165257808508684]"
      ]
     },
     "execution_count": 74,
     "metadata": {},
     "output_type": "execute_result"
    }
   ],
   "source": [
    "info_dict['validate'][0]"
   ]
  },
  {
   "cell_type": "code",
   "execution_count": 75,
   "id": "140e4b90",
   "metadata": {},
   "outputs": [],
   "source": [
    "# accuracy calculation\n",
    "# !!! it requires the input object still possessing the \"data\" and \"targets\" attributes\n",
    "def accuracyCal(model, test_data):\n",
    "    model.eval()\n",
    "    output = model(test_data.data/255)\n",
    "    pred = output.data.max(1)[1]\n",
    "    accuracy = pred.eq(test_data.targets).cpu().sum().to(torch.float32) / len(test_data)\n",
    "    print(accuracy)"
   ]
  },
  {
   "cell_type": "code",
   "execution_count": 76,
   "id": "27ac65e8",
   "metadata": {},
   "outputs": [],
   "source": [
    "# type(test_data)\n",
    "# accuracyCal(model, test_data)"
   ]
  },
  {
   "cell_type": "code",
   "execution_count": 77,
   "id": "4f5c28eb",
   "metadata": {},
   "outputs": [
    {
     "name": "stdout",
     "output_type": "stream",
     "text": [
      "Accuracy：95.71%\n"
     ]
    }
   ],
   "source": [
    "# accuracy calculation\n",
    "model.eval()\n",
    "correct = 0\n",
    "total = 0\n",
    "for images, labels in test_loader:\n",
    "    images = images.float()\n",
    "    outputs = model(images).cpu()\n",
    "    _, predicted = torch.max(outputs.data, 1)\n",
    "    total += labels.size(0)\n",
    "    correct += (predicted == labels).sum()\n",
    "\n",
    "print('Accuracy：%.2f%%' % (100 * correct / total))"
   ]
  },
  {
   "cell_type": "code",
   "execution_count": 83,
   "id": "f1f8ed1d",
   "metadata": {},
   "outputs": [],
   "source": [
    "# Save trained model\n",
    "# torch.save(model.state_dict(), 'results/LeNet5-cellimage.pkl')\n",
    "torch.save(model, 'results/ResNet18-lrle-2-cellimage.pkl')\n",
    "# model_re = torch.load('results/LeNet5-cellimage.pkl')"
   ]
  },
  {
   "cell_type": "code",
   "execution_count": null,
   "id": "a53dd236",
   "metadata": {},
   "outputs": [],
   "source": []
  }
 ],
 "metadata": {
  "kernelspec": {
   "display_name": "selfmade-deeplearning",
   "language": "python",
   "name": "deeplearning"
  },
  "language_info": {
   "codemirror_mode": {
    "name": "ipython",
    "version": 3
   },
   "file_extension": ".py",
   "mimetype": "text/x-python",
   "name": "python",
   "nbconvert_exporter": "python",
   "pygments_lexer": "ipython3",
   "version": "3.10.8"
  }
 },
 "nbformat": 4,
 "nbformat_minor": 5
}
