{
 "cells": [
  {
   "cell_type": "code",
   "execution_count": 40,
   "id": "f925e3e2",
   "metadata": {},
   "outputs": [],
   "source": [
    "import os\n",
    "# torch\n",
    "import torch.utils.data\n",
    "from torch.utils.data import Dataset, DataLoader\n",
    "import torch.nn as nn\n",
    "from torch.nn import functional as F\n",
    "from torch import optim\n",
    "\n",
    "# torchvision\n",
    "import torchvision\n",
    "from torchvision import transforms"
   ]
  },
  {
   "cell_type": "code",
   "execution_count": 41,
   "id": "baa9245f",
   "metadata": {},
   "outputs": [],
   "source": [
    "import numpy as np\n",
    "import matplotlib.pyplot as plt"
   ]
  },
  {
   "cell_type": "code",
   "execution_count": 116,
   "id": "3804c32a",
   "metadata": {},
   "outputs": [],
   "source": [
    "# Preset parameters\n",
    "BATCH_SIZE = 64\n",
    "learning_rate = 1e-2\n",
    "keep_prob = 0.7"
   ]
  },
  {
   "cell_type": "code",
   "execution_count": 117,
   "id": "ffd6206c",
   "metadata": {},
   "outputs": [],
   "source": [
    "# Load datasets\n",
    "# tf = transforms.Compose([transforms.ToTensor(), transforms.Resize((64,64))])  # 转为张量数据，同时resize为64*64\n",
    "tf = transforms.Compose([transforms.ToTensor(), transforms.Resize([28, 28]), transforms.Grayscale(num_output_channels=1)])  # 转为张量数据，同时resize为28*28；忽略RGB\n",
    "db = torchvision.datasets.ImageFolder(root = 'data', transform = tf) "
   ]
  },
  {
   "cell_type": "code",
   "execution_count": 118,
   "id": "d8e2210a",
   "metadata": {},
   "outputs": [
    {
     "data": {
      "text/plain": [
       "Dataset ImageFolder\n",
       "    Number of datapoints: 27558\n",
       "    Root location: data\n",
       "    StandardTransform\n",
       "Transform: Compose(\n",
       "               ToTensor()\n",
       "               Resize(size=[28, 28], interpolation=bilinear, max_size=None, antialias=None)\n",
       "               Grayscale(num_output_channels=1)\n",
       "           )"
      ]
     },
     "execution_count": 118,
     "metadata": {},
     "output_type": "execute_result"
    }
   ],
   "source": [
    "# Chekc info\n",
    "db"
   ]
  },
  {
   "cell_type": "code",
   "execution_count": 119,
   "id": "057ce716",
   "metadata": {},
   "outputs": [],
   "source": [
    "# ### Spliting\n",
    "# unsplit_data, test_data = torch.utils.data.random_split(db, [19290, 8268])\n",
    "# train_data, val_data = torch.utils.data.random_split(unsplit_data, [12860, 6430])\n",
    "\n",
    "# # Retrieving\n",
    "# train_loader = torch.utils.data.DataLoader(dataset = train_data, batch_size = BATCH_SIZE, shuffle = True)\n",
    "# validation_loader = torch.utils.data.DataLoader(dataset = val_data, batch_size = BATCH_SIZE, shuffle = False)\n",
    "# test_loader = torch.utils.data.DataLoader(dataset = test_data, batch_size = BATCH_SIZE, shuffle = False)"
   ]
  },
  {
   "cell_type": "code",
   "execution_count": 120,
   "id": "ba6607c9",
   "metadata": {},
   "outputs": [],
   "source": [
    "### Stratified spliting\n",
    "from sklearn.model_selection import train_test_split"
   ]
  },
  {
   "cell_type": "code",
   "execution_count": 121,
   "id": "7eca8905",
   "metadata": {},
   "outputs": [],
   "source": [
    "targets = db.targets\n",
    "\n",
    "train_idx, test_idx= train_test_split(np.arange(len(targets)), train_size=(0.7*2/3), test_size=0.3, shuffle=True, stratify=targets)\n",
    "validate_idx = np.setdiff1d(np.arange(len(targets)), np.union1d(train_idx, test_idx))\n",
    "\n",
    "# train_sampler = torch.utils.data.SubsetRandomSampler(train_idx)\n",
    "# validate_sampler = torch.utils.data.SubsetRandomSampler(train_idx)\n",
    "# test_sampler = torch.utils.data.SubsetRandomSampler(test_idx)\n",
    "\n",
    "train_data = torch.utils.data.Subset(db, train_idx)\n",
    "test_data = torch.utils.data.Subset(db, test_idx)\n",
    "validate_data = torch.utils.data.Subset(db, validate_idx)"
   ]
  },
  {
   "cell_type": "code",
   "execution_count": 122,
   "id": "da455838",
   "metadata": {},
   "outputs": [
    {
     "name": "stdout",
     "output_type": "stream",
     "text": [
      "The train dataset: 12860,0.47\n",
      "The validate dataset: 6430, 0.23\n",
      "The test dataset: 8268, 0.30\n",
      "total length: 27558\n"
     ]
    }
   ],
   "source": [
    "tt = len(train_idx) + len(validate_idx) + len(test_idx)\n",
    "\n",
    "print(f'''The train dataset: {len(train_idx)},{len(train_idx)/tt:.2f}\n",
    "The validate dataset: {len(validate_idx)}, {len(validate_idx)/tt:.2f}\n",
    "The test dataset: {len(test_idx)}, {len(test_idx)/tt:.2f}\n",
    "total length: {tt}''')"
   ]
  },
  {
   "cell_type": "code",
   "execution_count": 123,
   "id": "38212ef3",
   "metadata": {},
   "outputs": [
    {
     "data": {
      "text/plain": [
       "6430"
      ]
     },
     "execution_count": 123,
     "metadata": {},
     "output_type": "execute_result"
    }
   ],
   "source": [
    "# 验证拆分结果\n",
    "len(np.setdiff1d(np.arange(len(targets)), np.union1d(train_idx, test_idx)))"
   ]
  },
  {
   "cell_type": "code",
   "execution_count": 124,
   "id": "8b6a79de",
   "metadata": {},
   "outputs": [
    {
     "data": {
      "text/plain": [
       "array([], dtype=int32)"
      ]
     },
     "execution_count": 124,
     "metadata": {},
     "output_type": "execute_result"
    }
   ],
   "source": [
    "# 验证拆分结果\n",
    "np.intersect1d(train_idx, test_idx)"
   ]
  },
  {
   "cell_type": "code",
   "execution_count": 125,
   "id": "623630eb",
   "metadata": {},
   "outputs": [],
   "source": [
    "# train_loader = torch.utils.data.DataLoader(db, batch_size=BATCH_SIZE, sampler=train_sampler)\n",
    "# validate_loader = torch.utils.data.DataLoader(db, batch_size=BATCH_SIZE, sampler=validate_sampler)\n",
    "# test_loader = torch.utils.data.DataLoader(db, batch_size=BATCH_SIZE, sampler=test_sampler)\n",
    "\n",
    "train_loader = torch.utils.data.DataLoader(train_data, batch_size=BATCH_SIZE)\n",
    "validate_loader = torch.utils.data.DataLoader(validate_data, batch_size=BATCH_SIZE)\n",
    "test_loader = torch.utils.data.DataLoader(test_data, batch_size=BATCH_SIZE)"
   ]
  },
  {
   "cell_type": "code",
   "execution_count": 126,
   "id": "4812a4b6",
   "metadata": {},
   "outputs": [
    {
     "data": {
      "text/plain": [
       "27558"
      ]
     },
     "execution_count": 126,
     "metadata": {},
     "output_type": "execute_result"
    }
   ],
   "source": [
    "len(db.targets)"
   ]
  },
  {
   "cell_type": "code",
   "execution_count": 127,
   "id": "d7242ea6",
   "metadata": {},
   "outputs": [
    {
     "data": {
      "text/plain": [
       "12860"
      ]
     },
     "execution_count": 127,
     "metadata": {},
     "output_type": "execute_result"
    }
   ],
   "source": [
    "len(train_loader.dataset)"
   ]
  },
  {
   "cell_type": "code",
   "execution_count": 128,
   "id": "7b7016fd",
   "metadata": {},
   "outputs": [],
   "source": [
    "# # Test\n",
    "# for batch_idx, (x, label) in enumerate(train_loader):\n",
    "#     print(x)\n",
    "#     print(x.shape)\n",
    "#     break"
   ]
  },
  {
   "cell_type": "code",
   "execution_count": 129,
   "id": "3749ed0b",
   "metadata": {},
   "outputs": [],
   "source": [
    "# MLP\n",
    "class MLP(nn.Module):\n",
    "    \n",
    "    def __init__(self):\n",
    "        super(MLP, self).__init__() # 超继承\n",
    "        self.model = nn.Sequential(\n",
    "        # 1st Layer\n",
    "        nn.Linear(28*28, 512, bias=True),\n",
    "        nn.ReLU(),\n",
    "        nn.Dropout(keep_prob),\n",
    "        \n",
    "        # 2nd Layer\n",
    "        nn.Linear(512, 128, bias=True),\n",
    "        nn.ReLU(),\n",
    "        nn.Dropout(keep_prob),\n",
    "        \n",
    "        # Output Layer\n",
    "        nn.Linear(128, 2),\n",
    "        )\n",
    "    def forward(self, x):\n",
    "        x = x.view(-1, 28*28)\n",
    "        x = self.model(x)\n",
    "        x_softmax = F.softmax(x, dim=1)\n",
    "        return x_softmax"
   ]
  },
  {
   "cell_type": "code",
   "execution_count": 130,
   "id": "3414e1ab",
   "metadata": {},
   "outputs": [],
   "source": [
    "model = MLP()"
   ]
  },
  {
   "cell_type": "code",
   "execution_count": 131,
   "id": "543d6775",
   "metadata": {},
   "outputs": [],
   "source": [
    "#  optimizer & loss function\n",
    "optimizer = optim.SGD(model.parameters(), lr=learning_rate, momentum=0.9)\n",
    "loss_function = nn.CrossEntropyLoss()"
   ]
  },
  {
   "cell_type": "code",
   "execution_count": 132,
   "id": "fa269f80",
   "metadata": {},
   "outputs": [],
   "source": [
    "def train(\n",
    "    model,\n",
    "    data_loader,\n",
    "    optimizer,\n",
    "    loss_function,\n",
    "    epoch,\n",
    "    log_interval=200    # print out info every 200 batches\n",
    "):\n",
    "    model.train()\n",
    "    for batch_idx, (x, label) in enumerate(data_loader):\n",
    "        output = model(x)\n",
    "        \n",
    "        optimizer.zero_grad()\n",
    "        loss = loss_function(output, label)\n",
    "        loss.backward()\n",
    "        optimizer.step()\n",
    "        if batch_idx % log_interval == 0:\n",
    "            print(\"Train Epoch: {} [{}/{} ({:.0f}%)]\\tLoss: {:.6f}\".format(\n",
    "                epoch, batch_idx*len(x), len(data_loader.dataset),\n",
    "                100. * batch_idx/len(data_loader), loss.data.item()\n",
    "                # \"batch_idx/len(data_loader)\" = 当前的batch index除以batch总数\n",
    "            ))"
   ]
  },
  {
   "cell_type": "code",
   "execution_count": 133,
   "id": "b8e23872",
   "metadata": {},
   "outputs": [],
   "source": [
    "def validate(\n",
    "    model, \n",
    "    data_loader,\n",
    "    loss_function,\n",
    "    epoch,\n",
    "    loss_vector,\n",
    "    accuracy_vector\n",
    "):\n",
    "    '''applied at train dataset as well as validate dataset'''\n",
    "    model.eval()\n",
    "    loss, correct = 0, 0\n",
    "    for x, label in data_loader: # retrieve tensor dataset and label\n",
    "        output = model(x)\n",
    "        loss += loss_function(output, label).data.item()   # \"loss_function\" is pre-defined, which should be applied in this section\n",
    "        pred = output.data.max(1)[1]\n",
    "        correct += pred.eq(label.data).cpu().sum()\n",
    "    \n",
    "    # save cal\n",
    "    loss /= len(data_loader)\n",
    "#     print(data_loader.dataset)\n",
    "    loss_vector.append(loss) # for plotting\n",
    "    accuracy = 100. * correct.to(torch.float32) / len(data_loader.dataset)\n",
    "    accuracy_vector.append(accuracy)\n",
    "    print('Average loss: {:.4f}, Accuracy: {}/{} ({:.0f}%)\\n'.format(\n",
    "        loss, correct, len(data_loader.dataset), accuracy\n",
    "    ))"
   ]
  },
  {
   "cell_type": "code",
   "execution_count": 134,
   "id": "129c70a5",
   "metadata": {},
   "outputs": [],
   "source": [
    "def main(model, train_loader, validate_loader, optimizer, loss_function, num_epochs):\n",
    "    lossv, accv = [], []\n",
    "    train_lossv, train_accv = [], []\n",
    "    for epoch in range(1, num_epochs+1):\n",
    "        train(model, train_loader, optimizer, loss_function, epoch)\n",
    "        print(\"Train set:\")\n",
    "        validate(model, train_loader, loss_function, epoch, train_lossv, train_accv)\n",
    "        print(\"Validate set:\")\n",
    "        validate(model, validate_loader, loss_function, epoch, lossv, accv)\n",
    "    return {'validate':[lossv, accv], 'train':[train_lossv, train_accv]}"
   ]
  },
  {
   "cell_type": "code",
   "execution_count": 135,
   "id": "7c604903",
   "metadata": {
    "scrolled": true
   },
   "outputs": [
    {
     "name": "stdout",
     "output_type": "stream",
     "text": [
      "Train Epoch: 1 [0/12860 (0%)]\tLoss: 0.689633\n",
      "Train Epoch: 1 [12000/12860 (100%)]\tLoss: 0.673490\n",
      "Train set:\n",
      "Average loss: 0.6890, Accuracy: 6705/12860 (52%)\n",
      "\n",
      "Validate set:\n",
      "Average loss: 0.6891, Accuracy: 3334/6430 (52%)\n",
      "\n",
      "Train Epoch: 2 [0/12860 (0%)]\tLoss: 0.687397\n",
      "Train Epoch: 2 [12000/12860 (100%)]\tLoss: 0.691721\n",
      "Train set:\n",
      "Average loss: 0.6861, Accuracy: 7315/12860 (57%)\n",
      "\n",
      "Validate set:\n",
      "Average loss: 0.6866, Accuracy: 3639/6430 (57%)\n",
      "\n",
      "Train Epoch: 3 [0/12860 (0%)]\tLoss: 0.685599\n",
      "Train Epoch: 3 [12000/12860 (100%)]\tLoss: 0.676870\n",
      "Train set:\n",
      "Average loss: 0.6805, Accuracy: 7165/12860 (56%)\n",
      "\n",
      "Validate set:\n",
      "Average loss: 0.6815, Accuracy: 3559/6430 (55%)\n",
      "\n",
      "Train Epoch: 4 [0/12860 (0%)]\tLoss: 0.686289\n",
      "Train Epoch: 4 [12000/12860 (100%)]\tLoss: 0.700897\n",
      "Train set:\n",
      "Average loss: 0.6746, Accuracy: 7726/12860 (60%)\n",
      "\n",
      "Validate set:\n",
      "Average loss: 0.6767, Accuracy: 3781/6430 (59%)\n",
      "\n",
      "Train Epoch: 5 [0/12860 (0%)]\tLoss: 0.663531\n",
      "Train Epoch: 5 [12000/12860 (100%)]\tLoss: 0.681445\n",
      "Train set:\n",
      "Average loss: 0.6708, Accuracy: 7764/12860 (60%)\n",
      "\n",
      "Validate set:\n",
      "Average loss: 0.6737, Accuracy: 3794/6430 (59%)\n",
      "\n",
      "Train Epoch: 6 [0/12860 (0%)]\tLoss: 0.662050\n",
      "Train Epoch: 6 [12000/12860 (100%)]\tLoss: 0.676368\n",
      "Train set:\n",
      "Average loss: 0.6663, Accuracy: 7563/12860 (59%)\n",
      "\n",
      "Validate set:\n",
      "Average loss: 0.6702, Accuracy: 3741/6430 (58%)\n",
      "\n",
      "Train Epoch: 7 [0/12860 (0%)]\tLoss: 0.668203\n",
      "Train Epoch: 7 [12000/12860 (100%)]\tLoss: 0.662332\n",
      "Train set:\n",
      "Average loss: 0.6636, Accuracy: 7821/12860 (61%)\n",
      "\n",
      "Validate set:\n",
      "Average loss: 0.6678, Accuracy: 3830/6430 (60%)\n",
      "\n",
      "Train Epoch: 8 [0/12860 (0%)]\tLoss: 0.643572\n",
      "Train Epoch: 8 [12000/12860 (100%)]\tLoss: 0.687051\n",
      "Train set:\n",
      "Average loss: 0.6621, Accuracy: 7791/12860 (61%)\n",
      "\n",
      "Validate set:\n",
      "Average loss: 0.6666, Accuracy: 3817/6430 (59%)\n",
      "\n",
      "Train Epoch: 9 [0/12860 (0%)]\tLoss: 0.651382\n",
      "Train Epoch: 9 [12000/12860 (100%)]\tLoss: 0.656706\n",
      "Train set:\n",
      "Average loss: 0.6609, Accuracy: 7798/12860 (61%)\n",
      "\n",
      "Validate set:\n",
      "Average loss: 0.6655, Accuracy: 3830/6430 (60%)\n",
      "\n",
      "Train Epoch: 10 [0/12860 (0%)]\tLoss: 0.672340\n",
      "Train Epoch: 10 [12000/12860 (100%)]\tLoss: 0.658787\n",
      "Train set:\n",
      "Average loss: 0.6593, Accuracy: 7784/12860 (61%)\n",
      "\n",
      "Validate set:\n",
      "Average loss: 0.6646, Accuracy: 3797/6430 (59%)\n",
      "\n",
      "Train Epoch: 11 [0/12860 (0%)]\tLoss: 0.646430\n",
      "Train Epoch: 11 [12000/12860 (100%)]\tLoss: 0.685788\n",
      "Train set:\n",
      "Average loss: 0.6589, Accuracy: 7799/12860 (61%)\n",
      "\n",
      "Validate set:\n",
      "Average loss: 0.6637, Accuracy: 3833/6430 (60%)\n",
      "\n",
      "Train Epoch: 12 [0/12860 (0%)]\tLoss: 0.650820\n",
      "Train Epoch: 12 [12000/12860 (100%)]\tLoss: 0.662883\n",
      "Train set:\n",
      "Average loss: 0.6573, Accuracy: 7871/12860 (61%)\n",
      "\n",
      "Validate set:\n",
      "Average loss: 0.6627, Accuracy: 3859/6430 (60%)\n",
      "\n",
      "Train Epoch: 13 [0/12860 (0%)]\tLoss: 0.637455\n",
      "Train Epoch: 13 [12000/12860 (100%)]\tLoss: 0.654275\n",
      "Train set:\n",
      "Average loss: 0.6578, Accuracy: 7803/12860 (61%)\n",
      "\n",
      "Validate set:\n",
      "Average loss: 0.6634, Accuracy: 3825/6430 (59%)\n",
      "\n",
      "Train Epoch: 14 [0/12860 (0%)]\tLoss: 0.661309\n",
      "Train Epoch: 14 [12000/12860 (100%)]\tLoss: 0.668913\n",
      "Train set:\n",
      "Average loss: 0.6575, Accuracy: 7912/12860 (62%)\n",
      "\n",
      "Validate set:\n",
      "Average loss: 0.6629, Accuracy: 3871/6430 (60%)\n",
      "\n",
      "Train Epoch: 15 [0/12860 (0%)]\tLoss: 0.671956\n",
      "Train Epoch: 15 [12000/12860 (100%)]\tLoss: 0.665875\n",
      "Train set:\n",
      "Average loss: 0.6551, Accuracy: 7877/12860 (61%)\n",
      "\n",
      "Validate set:\n",
      "Average loss: 0.6613, Accuracy: 3858/6430 (60%)\n",
      "\n",
      "Train Epoch: 16 [0/12860 (0%)]\tLoss: 0.675902\n",
      "Train Epoch: 16 [12000/12860 (100%)]\tLoss: 0.683347\n",
      "Train set:\n",
      "Average loss: 0.6555, Accuracy: 7885/12860 (61%)\n",
      "\n",
      "Validate set:\n",
      "Average loss: 0.6612, Accuracy: 3850/6430 (60%)\n",
      "\n",
      "Train Epoch: 17 [0/12860 (0%)]\tLoss: 0.661252\n",
      "Train Epoch: 17 [12000/12860 (100%)]\tLoss: 0.668295\n",
      "Train set:\n",
      "Average loss: 0.6556, Accuracy: 7876/12860 (61%)\n",
      "\n",
      "Validate set:\n",
      "Average loss: 0.6613, Accuracy: 3877/6430 (60%)\n",
      "\n",
      "Train Epoch: 18 [0/12860 (0%)]\tLoss: 0.652085\n",
      "Train Epoch: 18 [12000/12860 (100%)]\tLoss: 0.683052\n",
      "Train set:\n",
      "Average loss: 0.6529, Accuracy: 7931/12860 (62%)\n",
      "\n",
      "Validate set:\n",
      "Average loss: 0.6592, Accuracy: 3879/6430 (60%)\n",
      "\n",
      "Train Epoch: 19 [0/12860 (0%)]\tLoss: 0.631926\n",
      "Train Epoch: 19 [12000/12860 (100%)]\tLoss: 0.666297\n",
      "Train set:\n",
      "Average loss: 0.6542, Accuracy: 7912/12860 (62%)\n",
      "\n",
      "Validate set:\n",
      "Average loss: 0.6600, Accuracy: 3912/6430 (61%)\n",
      "\n",
      "Train Epoch: 20 [0/12860 (0%)]\tLoss: 0.668616\n",
      "Train Epoch: 20 [12000/12860 (100%)]\tLoss: 0.705252\n",
      "Train set:\n",
      "Average loss: 0.6523, Accuracy: 7964/12860 (62%)\n",
      "\n",
      "Validate set:\n",
      "Average loss: 0.6590, Accuracy: 3874/6430 (60%)\n",
      "\n",
      "Train Epoch: 21 [0/12860 (0%)]\tLoss: 0.647356\n",
      "Train Epoch: 21 [12000/12860 (100%)]\tLoss: 0.650451\n",
      "Train set:\n",
      "Average loss: 0.6580, Accuracy: 7837/12860 (61%)\n",
      "\n",
      "Validate set:\n",
      "Average loss: 0.6636, Accuracy: 3868/6430 (60%)\n",
      "\n",
      "Train Epoch: 22 [0/12860 (0%)]\tLoss: 0.647598\n",
      "Train Epoch: 22 [12000/12860 (100%)]\tLoss: 0.648131\n",
      "Train set:\n",
      "Average loss: 0.6514, Accuracy: 7962/12860 (62%)\n",
      "\n",
      "Validate set:\n",
      "Average loss: 0.6583, Accuracy: 3902/6430 (61%)\n",
      "\n",
      "Train Epoch: 23 [0/12860 (0%)]\tLoss: 0.645062\n",
      "Train Epoch: 23 [12000/12860 (100%)]\tLoss: 0.656562\n",
      "Train set:\n",
      "Average loss: 0.6494, Accuracy: 8038/12860 (63%)\n",
      "\n",
      "Validate set:\n",
      "Average loss: 0.6559, Accuracy: 3956/6430 (62%)\n",
      "\n",
      "Train Epoch: 24 [0/12860 (0%)]\tLoss: 0.651983\n",
      "Train Epoch: 24 [12000/12860 (100%)]\tLoss: 0.696144\n",
      "Train set:\n",
      "Average loss: 0.6495, Accuracy: 7986/12860 (62%)\n",
      "\n",
      "Validate set:\n",
      "Average loss: 0.6563, Accuracy: 3912/6430 (61%)\n",
      "\n",
      "Train Epoch: 25 [0/12860 (0%)]\tLoss: 0.676147\n",
      "Train Epoch: 25 [12000/12860 (100%)]\tLoss: 0.656877\n",
      "Train set:\n",
      "Average loss: 0.6474, Accuracy: 8136/12860 (63%)\n",
      "\n",
      "Validate set:\n",
      "Average loss: 0.6538, Accuracy: 4006/6430 (62%)\n",
      "\n",
      "Train Epoch: 26 [0/12860 (0%)]\tLoss: 0.652748\n",
      "Train Epoch: 26 [12000/12860 (100%)]\tLoss: 0.658535\n",
      "Train set:\n",
      "Average loss: 0.6478, Accuracy: 8072/12860 (63%)\n",
      "\n",
      "Validate set:\n",
      "Average loss: 0.6545, Accuracy: 3974/6430 (62%)\n",
      "\n",
      "Train Epoch: 27 [0/12860 (0%)]\tLoss: 0.656093\n",
      "Train Epoch: 27 [12000/12860 (100%)]\tLoss: 0.683381\n",
      "Train set:\n",
      "Average loss: 0.6491, Accuracy: 8013/12860 (62%)\n",
      "\n",
      "Validate set:\n",
      "Average loss: 0.6564, Accuracy: 3912/6430 (61%)\n",
      "\n",
      "Train Epoch: 28 [0/12860 (0%)]\tLoss: 0.635728\n",
      "Train Epoch: 28 [12000/12860 (100%)]\tLoss: 0.654645\n",
      "Train set:\n",
      "Average loss: 0.6467, Accuracy: 8087/12860 (63%)\n",
      "\n",
      "Validate set:\n",
      "Average loss: 0.6538, Accuracy: 3991/6430 (62%)\n",
      "\n",
      "Train Epoch: 29 [0/12860 (0%)]\tLoss: 0.653052\n",
      "Train Epoch: 29 [12000/12860 (100%)]\tLoss: 0.634559\n",
      "Train set:\n",
      "Average loss: 0.6471, Accuracy: 8055/12860 (63%)\n",
      "\n",
      "Validate set:\n",
      "Average loss: 0.6543, Accuracy: 3953/6430 (61%)\n",
      "\n",
      "Train Epoch: 30 [0/12860 (0%)]\tLoss: 0.649487\n",
      "Train Epoch: 30 [12000/12860 (100%)]\tLoss: 0.706424\n",
      "Train set:\n",
      "Average loss: 0.6455, Accuracy: 8100/12860 (63%)\n",
      "\n",
      "Validate set:\n",
      "Average loss: 0.6526, Accuracy: 3966/6430 (62%)\n",
      "\n",
      "Train Epoch: 31 [0/12860 (0%)]\tLoss: 0.633128\n",
      "Train Epoch: 31 [12000/12860 (100%)]\tLoss: 0.675145\n",
      "Train set:\n",
      "Average loss: 0.6442, Accuracy: 8130/12860 (63%)\n",
      "\n",
      "Validate set:\n",
      "Average loss: 0.6521, Accuracy: 3982/6430 (62%)\n",
      "\n",
      "Train Epoch: 32 [0/12860 (0%)]\tLoss: 0.633491\n",
      "Train Epoch: 32 [12000/12860 (100%)]\tLoss: 0.628521\n",
      "Train set:\n",
      "Average loss: 0.6453, Accuracy: 8165/12860 (63%)\n",
      "\n",
      "Validate set:\n",
      "Average loss: 0.6520, Accuracy: 4021/6430 (63%)\n",
      "\n",
      "Train Epoch: 33 [0/12860 (0%)]\tLoss: 0.652962\n",
      "Train Epoch: 33 [12000/12860 (100%)]\tLoss: 0.649413\n",
      "Train set:\n",
      "Average loss: 0.6440, Accuracy: 8131/12860 (63%)\n",
      "\n",
      "Validate set:\n",
      "Average loss: 0.6510, Accuracy: 4003/6430 (62%)\n",
      "\n",
      "Train Epoch: 34 [0/12860 (0%)]\tLoss: 0.639107\n",
      "Train Epoch: 34 [12000/12860 (100%)]\tLoss: 0.628173\n",
      "Train set:\n",
      "Average loss: 0.6434, Accuracy: 8138/12860 (63%)\n",
      "\n",
      "Validate set:\n",
      "Average loss: 0.6512, Accuracy: 4010/6430 (62%)\n",
      "\n",
      "Train Epoch: 35 [0/12860 (0%)]\tLoss: 0.651531\n",
      "Train Epoch: 35 [12000/12860 (100%)]\tLoss: 0.625519\n",
      "Train set:\n",
      "Average loss: 0.6428, Accuracy: 8154/12860 (63%)\n",
      "\n",
      "Validate set:\n",
      "Average loss: 0.6506, Accuracy: 4020/6430 (63%)\n",
      "\n",
      "Train Epoch: 36 [0/12860 (0%)]\tLoss: 0.635610\n",
      "Train Epoch: 36 [12000/12860 (100%)]\tLoss: 0.639494\n",
      "Train set:\n",
      "Average loss: 0.6428, Accuracy: 8178/12860 (64%)\n",
      "\n",
      "Validate set:\n",
      "Average loss: 0.6501, Accuracy: 4026/6430 (63%)\n",
      "\n",
      "Train Epoch: 37 [0/12860 (0%)]\tLoss: 0.626736\n",
      "Train Epoch: 37 [12000/12860 (100%)]\tLoss: 0.645199\n",
      "Train set:\n",
      "Average loss: 0.6416, Accuracy: 8200/12860 (64%)\n",
      "\n",
      "Validate set:\n",
      "Average loss: 0.6485, Accuracy: 4038/6430 (63%)\n",
      "\n",
      "Train Epoch: 38 [0/12860 (0%)]\tLoss: 0.660840\n"
     ]
    },
    {
     "name": "stdout",
     "output_type": "stream",
     "text": [
      "Train Epoch: 38 [12000/12860 (100%)]\tLoss: 0.672927\n",
      "Train set:\n",
      "Average loss: 0.6418, Accuracy: 8187/12860 (64%)\n",
      "\n",
      "Validate set:\n",
      "Average loss: 0.6496, Accuracy: 4006/6430 (62%)\n",
      "\n",
      "Train Epoch: 39 [0/12860 (0%)]\tLoss: 0.655288\n",
      "Train Epoch: 39 [12000/12860 (100%)]\tLoss: 0.682101\n",
      "Train set:\n",
      "Average loss: 0.6405, Accuracy: 8213/12860 (64%)\n",
      "\n",
      "Validate set:\n",
      "Average loss: 0.6479, Accuracy: 4050/6430 (63%)\n",
      "\n",
      "Train Epoch: 40 [0/12860 (0%)]\tLoss: 0.650393\n",
      "Train Epoch: 40 [12000/12860 (100%)]\tLoss: 0.671723\n",
      "Train set:\n",
      "Average loss: 0.6396, Accuracy: 8293/12860 (64%)\n",
      "\n",
      "Validate set:\n",
      "Average loss: 0.6473, Accuracy: 4041/6430 (63%)\n",
      "\n",
      "Train Epoch: 41 [0/12860 (0%)]\tLoss: 0.590158\n",
      "Train Epoch: 41 [12000/12860 (100%)]\tLoss: 0.682701\n",
      "Train set:\n",
      "Average loss: 0.6387, Accuracy: 8261/12860 (64%)\n",
      "\n",
      "Validate set:\n",
      "Average loss: 0.6461, Accuracy: 4052/6430 (63%)\n",
      "\n",
      "Train Epoch: 42 [0/12860 (0%)]\tLoss: 0.641547\n",
      "Train Epoch: 42 [12000/12860 (100%)]\tLoss: 0.665718\n",
      "Train set:\n",
      "Average loss: 0.6415, Accuracy: 8148/12860 (63%)\n",
      "\n",
      "Validate set:\n",
      "Average loss: 0.6499, Accuracy: 4022/6430 (63%)\n",
      "\n",
      "Train Epoch: 43 [0/12860 (0%)]\tLoss: 0.626840\n",
      "Train Epoch: 43 [12000/12860 (100%)]\tLoss: 0.633496\n",
      "Train set:\n",
      "Average loss: 0.6402, Accuracy: 8215/12860 (64%)\n",
      "\n",
      "Validate set:\n",
      "Average loss: 0.6482, Accuracy: 4043/6430 (63%)\n",
      "\n",
      "Train Epoch: 44 [0/12860 (0%)]\tLoss: 0.657069\n",
      "Train Epoch: 44 [12000/12860 (100%)]\tLoss: 0.679155\n",
      "Train set:\n",
      "Average loss: 0.6397, Accuracy: 8217/12860 (64%)\n",
      "\n",
      "Validate set:\n",
      "Average loss: 0.6480, Accuracy: 4028/6430 (63%)\n",
      "\n",
      "Train Epoch: 45 [0/12860 (0%)]\tLoss: 0.606602\n",
      "Train Epoch: 45 [12000/12860 (100%)]\tLoss: 0.657184\n",
      "Train set:\n",
      "Average loss: 0.6430, Accuracy: 8181/12860 (64%)\n",
      "\n",
      "Validate set:\n",
      "Average loss: 0.6510, Accuracy: 4010/6430 (62%)\n",
      "\n",
      "Train Epoch: 46 [0/12860 (0%)]\tLoss: 0.657247\n",
      "Train Epoch: 46 [12000/12860 (100%)]\tLoss: 0.679746\n",
      "Train set:\n",
      "Average loss: 0.6456, Accuracy: 8014/12860 (62%)\n",
      "\n",
      "Validate set:\n",
      "Average loss: 0.6545, Accuracy: 3935/6430 (61%)\n",
      "\n",
      "Train Epoch: 47 [0/12860 (0%)]\tLoss: 0.644754\n",
      "Train Epoch: 47 [12000/12860 (100%)]\tLoss: 0.637518\n",
      "Train set:\n",
      "Average loss: 0.6423, Accuracy: 8203/12860 (64%)\n",
      "\n",
      "Validate set:\n",
      "Average loss: 0.6505, Accuracy: 4027/6430 (63%)\n",
      "\n",
      "Train Epoch: 48 [0/12860 (0%)]\tLoss: 0.639158\n",
      "Train Epoch: 48 [12000/12860 (100%)]\tLoss: 0.665700\n",
      "Train set:\n",
      "Average loss: 0.6387, Accuracy: 8211/12860 (64%)\n",
      "\n",
      "Validate set:\n",
      "Average loss: 0.6471, Accuracy: 4021/6430 (63%)\n",
      "\n",
      "Train Epoch: 49 [0/12860 (0%)]\tLoss: 0.653488\n",
      "Train Epoch: 49 [12000/12860 (100%)]\tLoss: 0.696933\n",
      "Train set:\n",
      "Average loss: 0.6395, Accuracy: 8216/12860 (64%)\n",
      "\n",
      "Validate set:\n",
      "Average loss: 0.6486, Accuracy: 4036/6430 (63%)\n",
      "\n",
      "Train Epoch: 50 [0/12860 (0%)]\tLoss: 0.647109\n",
      "Train Epoch: 50 [12000/12860 (100%)]\tLoss: 0.630565\n",
      "Train set:\n",
      "Average loss: 0.6350, Accuracy: 8284/12860 (64%)\n",
      "\n",
      "Validate set:\n",
      "Average loss: 0.6437, Accuracy: 4064/6430 (63%)\n",
      "\n"
     ]
    }
   ],
   "source": [
    "info_dict = main(model, train_loader, validate_loader, optimizer, loss_function, 50)"
   ]
  },
  {
   "cell_type": "code",
   "execution_count": 136,
   "id": "09d2f90c",
   "metadata": {},
   "outputs": [],
   "source": [
    "from matplotlib import font_manager\n",
    "\n",
    "config = {\n",
    "    \"font.family\":'Times New Roman', # sans-serif/serif/cursive/fantasy/monospace\n",
    "    \"font.size\": 15, # medium/large/small\n",
    "    'font.style':'normal', # normal/italic/oblique\n",
    "    'font.weight':'normal', # bold\n",
    "    \"mathtext.fontset\":'cm',# 'cm' (Computer Modern)\n",
    "    \"font.serif\": ['cmb10'], # 'Simsun'宋体\n",
    "    \"axes.unicode_minus\": False,# 用来正常显示负号\n",
    "}\n",
    "\n",
    "# plot\n",
    "def EA_curve(train_loss_vector, validate_loss_vector, train_acc_vector, validate_acc_vector, num_epochs):\n",
    "    plt.figure(figsize=(5, 3))\n",
    "    plt.rcParams.update(config)\n",
    "    plt.plot(np.arange(1, num_epochs+1), train_loss_vector, label=\"Train error\")\n",
    "    plt.plot(np.arange(1, num_epochs+1), validate_loss_vector, label=\"Validation error\")\n",
    "    plt.title(\"Error\")\n",
    "    plt.legend(loc=\"best\")\n",
    "    plt.xlabel(\"Epoch\")\n",
    "    plt.ylabel(\"Error\")\n",
    "    \n",
    "    plt.figure(figsize=(5,3))\n",
    "    plt.plot(np.arange(1,num_epochs+1), train_acc_vector,label=\"Train accuracy\")\n",
    "    plt.plot(np.arange(1,num_epochs+1), validate_acc_vector,label=\"Validation accuracy\")\n",
    "    plt.title('Accuracy')\n",
    "    plt.legend(loc = \"best\")\n",
    "    plt.xlabel(\"Epoch\")\n",
    "    plt.ylabel(\"Accuracy\")"
   ]
  },
  {
   "cell_type": "code",
   "execution_count": 137,
   "id": "ca64134d",
   "metadata": {},
   "outputs": [
    {
     "data": {
      "image/png": "[encoded data removed]",
      "text/plain": [
       "<Figure size 500x300 with 1 Axes>"
      ]
     },
     "metadata": {},
     "output_type": "display_data"
    },
    {
     "data": {
      "image/png": "[encoded data removed]",
      "text/plain": [
       "<Figure size 500x300 with 1 Axes>"
      ]
     },
     "metadata": {},
     "output_type": "display_data"
    }
   ],
   "source": [
    "EA_curve(info_dict['train'][0], info_dict['validate'][0], info_dict['train'][1], info_dict['validate'][1], 50)"
   ]
  },
  {
   "cell_type": "code",
   "execution_count": 138,
   "id": "627f7dd5",
   "metadata": {},
   "outputs": [],
   "source": [
    "# accuracy calculation\n",
    "# !!! it requires the input object still possessing the \"data\" and \"targets\" attributes\n",
    "def accuracyCal(model, test_data):\n",
    "    model.eval()\n",
    "    output = model(test_data.data/255)\n",
    "    pred = output.data.max(1)[1]\n",
    "    accuracy = pred.eq(test_data.targets).cpu().sum().to(torch.float32) / len(test_data)\n",
    "    print(accuracy)"
   ]
  },
  {
   "cell_type": "code",
   "execution_count": 139,
   "id": "5abb402c",
   "metadata": {},
   "outputs": [
    {
     "name": "stdout",
     "output_type": "stream",
     "text": [
      "Accuracy：63.28%\n"
     ]
    }
   ],
   "source": [
    "# accuracy calculation\n",
    "model.eval()\n",
    "correct = 0\n",
    "total = 0\n",
    "for images, labels in test_loader:\n",
    "    images = images.float()\n",
    "    outputs = model(images).cpu()\n",
    "    _, predicted = torch.max(outputs.data, 1)\n",
    "    total += labels.size(0)\n",
    "    correct += (predicted == labels).sum()\n",
    "\n",
    "print('Accuracy：%.2f%%' % (100 * correct / total))"
   ]
  },
  {
   "cell_type": "code",
   "execution_count": 140,
   "id": "108e3c9c",
   "metadata": {},
   "outputs": [],
   "source": [
    "# Save trained model\n",
    "# torch.save(model.state_dict(), 'results/LeNet5-cellimage.pkl')\n",
    "# torch.save(model, 'results/MLP-lrle-4-cellimage.pkl')\n",
    "torch.save(model, 'results/MLP-lrle-2-cellimage.pkl')\n",
    "# model_re = torch.load('results/LeNet5-cellimage.pkl')"
   ]
  },
  {
   "cell_type": "code",
   "execution_count": null,
   "id": "f02933e1",
   "metadata": {},
   "outputs": [],
   "source": []
  }
 ],
 "metadata": {
  "kernelspec": {
   "display_name": "selfmade-deeplearning",
   "language": "python",
   "name": "deeplearning"
  },
  "language_info": {
   "codemirror_mode": {
    "name": "ipython",
    "version": 3
   },
   "file_extension": ".py",
   "mimetype": "text/x-python",
   "name": "python",
   "nbconvert_exporter": "python",
   "pygments_lexer": "ipython3",
   "version": "3.10.8"
  }
 },
 "nbformat": 4,
 "nbformat_minor": 5
}
