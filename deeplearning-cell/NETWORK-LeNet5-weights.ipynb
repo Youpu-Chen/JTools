{
 "cells": [
  {
   "cell_type": "code",
   "execution_count": 1,
   "id": "9b13f8d9",
   "metadata": {},
   "outputs": [],
   "source": [
    "import os\n",
    "# torch\n",
    "import torch.utils.data\n",
    "from torch.utils.data import Dataset, DataLoader\n",
    "import torch.nn as nn\n",
    "from torch.nn import functional as F\n",
    "from torch import optim\n",
    "\n",
    "# torchvision\n",
    "import torchvision\n",
    "from torchvision import transforms"
   ]
  },
  {
   "cell_type": "code",
   "execution_count": 2,
   "id": "daf9b893",
   "metadata": {},
   "outputs": [],
   "source": [
    "import numpy as np\n",
    "import matplotlib.pyplot as plt"
   ]
  },
  {
   "cell_type": "code",
   "execution_count": 3,
   "id": "0d688118",
   "metadata": {},
   "outputs": [],
   "source": [
    "# Preset parameters\n",
    "BATCH_SIZE = 64\n",
    "learning_rate = 1e-1\n",
    "keep_prob = 0.7"
   ]
  },
  {
   "cell_type": "code",
   "execution_count": 4,
   "id": "999c167d",
   "metadata": {},
   "outputs": [],
   "source": [
    "# Load datasets\n",
    "# tf = transforms.Compose([transforms.ToTensor(), transforms.Resize((64,64))])  # 转为张量数据，同时resize为64*64\n",
    "tf = transforms.Compose([transforms.ToTensor(), transforms.Resize([28, 28])])  # 转为张量数据，同时resize为28*28\n",
    "db = torchvision.datasets.ImageFolder(root = 'data', transform = tf) "
   ]
  },
  {
   "cell_type": "code",
   "execution_count": 5,
   "id": "03b7a635",
   "metadata": {},
   "outputs": [
    {
     "data": {
      "text/plain": [
       "Dataset ImageFolder\n",
       "    Number of datapoints: 27558\n",
       "    Root location: data\n",
       "    StandardTransform\n",
       "Transform: Compose(\n",
       "               ToTensor()\n",
       "               Resize(size=[28, 28], interpolation=bilinear, max_size=None, antialias=None)\n",
       "           )"
      ]
     },
     "execution_count": 5,
     "metadata": {},
     "output_type": "execute_result"
    }
   ],
   "source": [
    "# Chekc info\n",
    "db"
   ]
  },
  {
   "cell_type": "code",
   "execution_count": 6,
   "id": "20c075b2",
   "metadata": {},
   "outputs": [],
   "source": [
    "# ### Spliting\n",
    "# unsplit_data, test_data = torch.utils.data.random_split(db, [19290, 8268])\n",
    "# train_data, val_data = torch.utils.data.random_split(unsplit_data, [12860, 6430])\n",
    "\n",
    "# # Retrieving\n",
    "# train_loader = torch.utils.data.DataLoader(dataset = train_data, batch_size = BATCH_SIZE, shuffle = True)\n",
    "# validation_loader = torch.utils.data.DataLoader(dataset = val_data, batch_size = BATCH_SIZE, shuffle = False)\n",
    "# test_loader = torch.utils.data.DataLoader(dataset = test_data, batch_size = BATCH_SIZE, shuffle = False)"
   ]
  },
  {
   "cell_type": "code",
   "execution_count": 7,
   "id": "92e587d3",
   "metadata": {},
   "outputs": [],
   "source": [
    "### Stratified spliting\n",
    "from sklearn.model_selection import train_test_split"
   ]
  },
  {
   "cell_type": "code",
   "execution_count": 8,
   "id": "9bd9ac43",
   "metadata": {},
   "outputs": [],
   "source": [
    "targets = db.targets\n",
    "\n",
    "train_idx, test_idx= train_test_split(np.arange(len(targets)), train_size=(0.7*2/3), test_size=0.3, shuffle=True, stratify=targets)\n",
    "validate_idx = np.setdiff1d(np.arange(len(targets)), np.union1d(train_idx, test_idx))\n",
    "\n",
    "# train_sampler = torch.utils.data.SubsetRandomSampler(train_idx)\n",
    "# validate_sampler = torch.utils.data.SubsetRandomSampler(train_idx)\n",
    "# test_sampler = torch.utils.data.SubsetRandomSampler(test_idx)\n",
    "\n",
    "train_data = torch.utils.data.Subset(db, train_idx)\n",
    "test_data = torch.utils.data.Subset(db, test_idx)\n",
    "validate_data = torch.utils.data.Subset(db, validate_idx)"
   ]
  },
  {
   "cell_type": "code",
   "execution_count": 9,
   "id": "36a528e1",
   "metadata": {},
   "outputs": [
    {
     "name": "stdout",
     "output_type": "stream",
     "text": [
      "The train dataset: 12860,0.47\n",
      "The validate dataset: 6430, 0.23\n",
      "The test dataset: 8268, 0.30\n",
      "total length: 27558\n"
     ]
    }
   ],
   "source": [
    "tt = len(train_idx) + len(validate_idx) + len(test_idx)\n",
    "\n",
    "print(f'''The train dataset: {len(train_idx)},{len(train_idx)/tt:.2f}\n",
    "The validate dataset: {len(validate_idx)}, {len(validate_idx)/tt:.2f}\n",
    "The test dataset: {len(test_idx)}, {len(test_idx)/tt:.2f}\n",
    "total length: {tt}''')"
   ]
  },
  {
   "cell_type": "code",
   "execution_count": 10,
   "id": "3db9b51a",
   "metadata": {},
   "outputs": [
    {
     "data": {
      "text/plain": [
       "6430"
      ]
     },
     "execution_count": 10,
     "metadata": {},
     "output_type": "execute_result"
    }
   ],
   "source": [
    "# 验证拆分结果\n",
    "len(np.setdiff1d(np.arange(len(targets)), np.union1d(train_idx, test_idx)))"
   ]
  },
  {
   "cell_type": "code",
   "execution_count": 11,
   "id": "21bbbb36",
   "metadata": {},
   "outputs": [
    {
     "data": {
      "text/plain": [
       "array([], dtype=int32)"
      ]
     },
     "execution_count": 11,
     "metadata": {},
     "output_type": "execute_result"
    }
   ],
   "source": [
    "# 验证拆分结果\n",
    "np.intersect1d(train_idx, test_idx)"
   ]
  },
  {
   "cell_type": "code",
   "execution_count": 12,
   "id": "164e929c",
   "metadata": {},
   "outputs": [],
   "source": [
    "# train_loader = torch.utils.data.DataLoader(db, batch_size=BATCH_SIZE, sampler=train_sampler)\n",
    "# validate_loader = torch.utils.data.DataLoader(db, batch_size=BATCH_SIZE, sampler=validate_sampler)\n",
    "# test_loader = torch.utils.data.DataLoader(db, batch_size=BATCH_SIZE, sampler=test_sampler)\n",
    "\n",
    "train_loader = torch.utils.data.DataLoader(train_data, batch_size=BATCH_SIZE)\n",
    "validate_loader = torch.utils.data.DataLoader(validate_data, batch_size=BATCH_SIZE)\n",
    "test_loader = torch.utils.data.DataLoader(test_data, batch_size=BATCH_SIZE)"
   ]
  },
  {
   "cell_type": "code",
   "execution_count": 13,
   "id": "a256427e",
   "metadata": {},
   "outputs": [
    {
     "data": {
      "text/plain": [
       "27558"
      ]
     },
     "execution_count": 13,
     "metadata": {},
     "output_type": "execute_result"
    }
   ],
   "source": [
    "len(db.targets)"
   ]
  },
  {
   "cell_type": "code",
   "execution_count": 14,
   "id": "4cd66dbb",
   "metadata": {},
   "outputs": [
    {
     "data": {
      "text/plain": [
       "12860"
      ]
     },
     "execution_count": 14,
     "metadata": {},
     "output_type": "execute_result"
    }
   ],
   "source": [
    "len(train_loader.dataset)"
   ]
  },
  {
   "cell_type": "code",
   "execution_count": 15,
   "id": "7f26d8f6",
   "metadata": {},
   "outputs": [],
   "source": [
    "# LeNet5\n",
    "class LeNet5(nn.Module):\n",
    "    \n",
    "    def __init__(self):\n",
    "        super(LeNet5, self).__init__() # 超继承\n",
    "        self.model = nn.Sequential(\n",
    "        # 第一个卷积层\n",
    "        nn.Conv2d(3, 6, kernel_size=3, stride=1),\n",
    "        # 高宽各减半的池化层\n",
    "        nn.MaxPool2d(kernel_size=2, stride=2),\n",
    "        nn.ReLU(),\n",
    "        # 第二个卷积层\n",
    "        nn.Conv2d(6, 16, kernel_size=3, stride=1),\n",
    "        # 高宽各减半的池化层\n",
    "        nn.MaxPool2d(kernel_size=2, stride=2),\n",
    "        nn.ReLU(),\n",
    "        \n",
    "        # 展开\n",
    "        nn.Flatten(),\n",
    "        # MLP\n",
    "        nn.Linear(400, 120, bias=True),\n",
    "        nn.ReLU(),\n",
    "        nn.Linear(120, 84, bias=True),\n",
    "        nn.ReLU(),\n",
    "        nn.Dropout(keep_prob),\n",
    "        nn.Linear(84, 2),\n",
    "        )\n",
    "    def forward(self, x):\n",
    "        x = self.model(x)\n",
    "        x_softmax = F.softmax(x, dim=1)\n",
    "        return x_softmax"
   ]
  },
  {
   "cell_type": "code",
   "execution_count": 16,
   "id": "f742ef7f",
   "metadata": {},
   "outputs": [],
   "source": [
    "model = LeNet5()"
   ]
  },
  {
   "cell_type": "code",
   "execution_count": 17,
   "id": "f3be73f9",
   "metadata": {},
   "outputs": [],
   "source": [
    "#  optimizer & loss function\n",
    "optimizer = optim.SGD(model.parameters(), lr=learning_rate, momentum=0.9, weight_decay=5e-4)\n",
    "loss_function = nn.CrossEntropyLoss()"
   ]
  },
  {
   "cell_type": "code",
   "execution_count": 18,
   "id": "3ddcb19b",
   "metadata": {},
   "outputs": [],
   "source": [
    "def train(\n",
    "    model,\n",
    "    data_loader,\n",
    "    optimizer,\n",
    "    loss_function,\n",
    "    epoch,\n",
    "    log_interval=200    # print out info every 200 batches\n",
    "):\n",
    "    model.train()\n",
    "    for batch_idx, (x, label) in enumerate(data_loader):\n",
    "        \n",
    "        optimizer.zero_grad()\n",
    "        output = model(x)\n",
    "        loss = loss_function(output, label)\n",
    "        loss.backward()\n",
    "        optimizer.step()\n",
    "        if batch_idx % log_interval == 0:\n",
    "            print(\"Train Epoch: {} [{}/{} ({:.0f}%)]\\tLoss: {:.6f}\".format(\n",
    "                epoch, batch_idx*len(x), len(data_loader.dataset),\n",
    "                100. * batch_idx/len(data_loader), loss.data.item()\n",
    "                # \"batch_idx/len(data_loader)\" = 当前的batch index除以batch总数\n",
    "            ))"
   ]
  },
  {
   "cell_type": "code",
   "execution_count": 19,
   "id": "aee42921",
   "metadata": {},
   "outputs": [],
   "source": [
    "def validate(\n",
    "    model, \n",
    "    data_loader,\n",
    "    loss_function,\n",
    "    epoch,\n",
    "    loss_vector,\n",
    "    accuracy_vector\n",
    "):\n",
    "    '''applied at train dataset as well as validate dataset'''\n",
    "    model.eval()\n",
    "    loss, correct = 0, 0\n",
    "    for x, label in data_loader: # retrieve tensor dataset and label\n",
    "        output = model(x)\n",
    "        loss += loss_function(output, label).data.item()   # \"loss_function\" is pre-defined, which should be applied in this section\n",
    "        pred = output.data.max(1)[1]\n",
    "        correct += pred.eq(label.data).cpu().sum()\n",
    "    \n",
    "    # save cal\n",
    "    loss /= len(data_loader)\n",
    "#     print(data_loader.dataset)\n",
    "    loss_vector.append(loss) # for plotting\n",
    "    accuracy = 100. * correct.to(torch.float32) / len(data_loader.dataset)\n",
    "    accuracy_vector.append(accuracy)\n",
    "    print('Average loss: {:.4f}, Accuracy: {}/{} ({:.0f}%)\\n'.format(\n",
    "        loss, correct, len(data_loader.dataset), accuracy\n",
    "    ))"
   ]
  },
  {
   "cell_type": "code",
   "execution_count": 20,
   "id": "7b1c298a",
   "metadata": {},
   "outputs": [],
   "source": [
    "def main(model, train_loader, validate_loader, optimizer, loss_function, num_epochs):\n",
    "    lossv, accv = [], []\n",
    "    train_lossv, train_accv = [], []\n",
    "    for epoch in range(1, num_epochs+1):\n",
    "        train(model, train_loader, optimizer, loss_function, epoch)\n",
    "        print(\"Train set:\")\n",
    "        validate(model, train_loader, loss_function, epoch, train_lossv, train_accv)\n",
    "        print(\"Validate set:\")\n",
    "        validate(model, validate_loader, loss_function, epoch, lossv, accv)\n",
    "    return {'validate':[lossv, accv], 'train':[train_lossv, train_accv]}"
   ]
  },
  {
   "cell_type": "code",
   "execution_count": 21,
   "id": "4ee46a45",
   "metadata": {
    "scrolled": true
   },
   "outputs": [
    {
     "name": "stdout",
     "output_type": "stream",
     "text": [
      "Train Epoch: 1 [0/12860 (0%)]\tLoss: 0.692852\n",
      "Train Epoch: 1 [12000/12860 (100%)]\tLoss: 0.692028\n",
      "Train set:\n",
      "Average loss: 0.6911, Accuracy: 7373/12860 (57%)\n",
      "\n",
      "Validate set:\n",
      "Average loss: 0.6911, Accuracy: 3644/6430 (57%)\n",
      "\n",
      "Train Epoch: 2 [0/12860 (0%)]\tLoss: 0.694835\n",
      "Train Epoch: 2 [12000/12860 (100%)]\tLoss: 0.682294\n",
      "Train set:\n",
      "Average loss: 0.6856, Accuracy: 7018/12860 (55%)\n",
      "\n",
      "Validate set:\n",
      "Average loss: 0.6857, Accuracy: 3461/6430 (54%)\n",
      "\n",
      "Train Epoch: 3 [0/12860 (0%)]\tLoss: 0.686247\n",
      "Train Epoch: 3 [12000/12860 (100%)]\tLoss: 0.688197\n",
      "Train set:\n",
      "Average loss: 0.6901, Accuracy: 7031/12860 (55%)\n",
      "\n",
      "Validate set:\n",
      "Average loss: 0.6902, Accuracy: 3542/6430 (55%)\n",
      "\n",
      "Train Epoch: 4 [0/12860 (0%)]\tLoss: 0.685788\n",
      "Train Epoch: 4 [12000/12860 (100%)]\tLoss: 0.605761\n",
      "Train set:\n",
      "Average loss: 0.6649, Accuracy: 8032/12860 (62%)\n",
      "\n",
      "Validate set:\n",
      "Average loss: 0.6667, Accuracy: 3979/6430 (62%)\n",
      "\n",
      "Train Epoch: 5 [0/12860 (0%)]\tLoss: 0.686174\n",
      "Train Epoch: 5 [12000/12860 (100%)]\tLoss: 0.448431\n",
      "Train set:\n",
      "Average loss: 0.4321, Accuracy: 11301/12860 (88%)\n",
      "\n",
      "Validate set:\n",
      "Average loss: 0.4288, Accuracy: 5666/6430 (88%)\n",
      "\n",
      "Train Epoch: 6 [0/12860 (0%)]\tLoss: 0.414257\n",
      "Train Epoch: 6 [12000/12860 (100%)]\tLoss: 0.481623\n",
      "Train set:\n",
      "Average loss: 0.3948, Accuracy: 11810/12860 (92%)\n",
      "\n",
      "Validate set:\n",
      "Average loss: 0.4006, Accuracy: 5858/6430 (91%)\n",
      "\n",
      "Train Epoch: 7 [0/12860 (0%)]\tLoss: 0.427665\n",
      "Train Epoch: 7 [12000/12860 (100%)]\tLoss: 0.449900\n",
      "Train set:\n",
      "Average loss: 0.3886, Accuracy: 11898/12860 (93%)\n",
      "\n",
      "Validate set:\n",
      "Average loss: 0.3918, Accuracy: 5928/6430 (92%)\n",
      "\n",
      "Train Epoch: 8 [0/12860 (0%)]\tLoss: 0.408664\n",
      "Train Epoch: 8 [12000/12860 (100%)]\tLoss: 0.449230\n",
      "Train set:\n",
      "Average loss: 0.4502, Accuracy: 11079/12860 (86%)\n",
      "\n",
      "Validate set:\n",
      "Average loss: 0.4413, Accuracy: 5596/6430 (87%)\n",
      "\n",
      "Train Epoch: 9 [0/12860 (0%)]\tLoss: 0.430045\n",
      "Train Epoch: 9 [12000/12860 (100%)]\tLoss: 0.448776\n",
      "Train set:\n",
      "Average loss: 0.3913, Accuracy: 11854/12860 (92%)\n",
      "\n",
      "Validate set:\n",
      "Average loss: 0.3918, Accuracy: 5922/6430 (92%)\n",
      "\n",
      "Train Epoch: 10 [0/12860 (0%)]\tLoss: 0.408083\n",
      "Train Epoch: 10 [12000/12860 (100%)]\tLoss: 0.478024\n",
      "Train set:\n",
      "Average loss: 0.3928, Accuracy: 11841/12860 (92%)\n",
      "\n",
      "Validate set:\n",
      "Average loss: 0.3951, Accuracy: 5901/6430 (92%)\n",
      "\n",
      "Train Epoch: 11 [0/12860 (0%)]\tLoss: 0.437834\n",
      "Train Epoch: 11 [12000/12860 (100%)]\tLoss: 0.481307\n",
      "Train set:\n",
      "Average loss: 0.3976, Accuracy: 11779/12860 (92%)\n",
      "\n",
      "Validate set:\n",
      "Average loss: 0.4005, Accuracy: 5867/6430 (91%)\n",
      "\n",
      "Train Epoch: 12 [0/12860 (0%)]\tLoss: 0.434028\n",
      "Train Epoch: 12 [12000/12860 (100%)]\tLoss: 0.507817\n",
      "Train set:\n",
      "Average loss: 0.4450, Accuracy: 11173/12860 (87%)\n",
      "\n",
      "Validate set:\n",
      "Average loss: 0.4558, Accuracy: 5515/6430 (86%)\n",
      "\n",
      "Train Epoch: 13 [0/12860 (0%)]\tLoss: 0.454888\n",
      "Train Epoch: 13 [12000/12860 (100%)]\tLoss: 0.443915\n",
      "Train set:\n",
      "Average loss: 0.4529, Accuracy: 11054/12860 (86%)\n",
      "\n",
      "Validate set:\n",
      "Average loss: 0.4440, Accuracy: 5581/6430 (87%)\n",
      "\n",
      "Train Epoch: 14 [0/12860 (0%)]\tLoss: 0.435172\n",
      "Train Epoch: 14 [12000/12860 (100%)]\tLoss: 0.670293\n",
      "Train set:\n",
      "Average loss: 0.6880, Accuracy: 6713/12860 (52%)\n",
      "\n",
      "Validate set:\n",
      "Average loss: 0.6881, Accuracy: 3360/6430 (52%)\n",
      "\n",
      "Train Epoch: 15 [0/12860 (0%)]\tLoss: 0.684511\n",
      "Train Epoch: 15 [12000/12860 (100%)]\tLoss: 0.448477\n",
      "Train set:\n",
      "Average loss: 0.3971, Accuracy: 11782/12860 (92%)\n",
      "\n",
      "Validate set:\n",
      "Average loss: 0.3955, Accuracy: 5900/6430 (92%)\n",
      "\n",
      "Train Epoch: 16 [0/12860 (0%)]\tLoss: 0.409702\n",
      "Train Epoch: 16 [12000/12860 (100%)]\tLoss: 0.448343\n",
      "Train set:\n",
      "Average loss: 0.3972, Accuracy: 11776/12860 (92%)\n",
      "\n",
      "Validate set:\n",
      "Average loss: 0.3952, Accuracy: 5904/6430 (92%)\n",
      "\n",
      "Train Epoch: 17 [0/12860 (0%)]\tLoss: 0.408159\n",
      "Train Epoch: 17 [12000/12860 (100%)]\tLoss: 0.481833\n",
      "Train set:\n",
      "Average loss: 0.4063, Accuracy: 11670/12860 (91%)\n",
      "\n",
      "Validate set:\n",
      "Average loss: 0.4064, Accuracy: 5834/6430 (91%)\n",
      "\n",
      "Train Epoch: 18 [0/12860 (0%)]\tLoss: 0.424209\n",
      "Train Epoch: 18 [12000/12860 (100%)]\tLoss: 0.448949\n",
      "Train set:\n",
      "Average loss: 0.3860, Accuracy: 11923/12860 (93%)\n",
      "\n",
      "Validate set:\n",
      "Average loss: 0.3900, Accuracy: 5935/6430 (92%)\n",
      "\n",
      "Train Epoch: 19 [0/12860 (0%)]\tLoss: 0.407897\n",
      "Train Epoch: 19 [12000/12860 (100%)]\tLoss: 0.447412\n",
      "Train set:\n",
      "Average loss: 0.3870, Accuracy: 11912/12860 (93%)\n",
      "\n",
      "Validate set:\n",
      "Average loss: 0.3887, Accuracy: 5943/6430 (92%)\n",
      "\n",
      "Train Epoch: 20 [0/12860 (0%)]\tLoss: 0.407854\n",
      "Train Epoch: 20 [12000/12860 (100%)]\tLoss: 0.420081\n",
      "Train set:\n",
      "Average loss: 0.4560, Accuracy: 11012/12860 (86%)\n",
      "\n",
      "Validate set:\n",
      "Average loss: 0.4479, Accuracy: 5556/6430 (86%)\n",
      "\n",
      "Train Epoch: 21 [0/12860 (0%)]\tLoss: 0.429422\n",
      "Train Epoch: 21 [12000/12860 (100%)]\tLoss: 0.693917\n",
      "Train set:\n",
      "Average loss: 0.6934, Accuracy: 6430/12860 (50%)\n",
      "\n",
      "Validate set:\n",
      "Average loss: 0.6933, Accuracy: 3218/6430 (50%)\n",
      "\n",
      "Train Epoch: 22 [0/12860 (0%)]\tLoss: 0.705584\n",
      "Train Epoch: 22 [12000/12860 (100%)]\tLoss: 0.692642\n",
      "Train set:\n",
      "Average loss: 0.6932, Accuracy: 6430/12860 (50%)\n",
      "\n",
      "Validate set:\n",
      "Average loss: 0.6931, Accuracy: 3215/6430 (50%)\n",
      "\n",
      "Train Epoch: 23 [0/12860 (0%)]\tLoss: 0.693569\n",
      "Train Epoch: 23 [12000/12860 (100%)]\tLoss: 0.693471\n",
      "Train set:\n",
      "Average loss: 0.6932, Accuracy: 6430/12860 (50%)\n",
      "\n",
      "Validate set:\n",
      "Average loss: 0.6931, Accuracy: 3215/6430 (50%)\n",
      "\n",
      "Train Epoch: 24 [0/12860 (0%)]\tLoss: 0.693181\n",
      "Train Epoch: 24 [12000/12860 (100%)]\tLoss: 0.693909\n",
      "Train set:\n",
      "Average loss: 0.6931, Accuracy: 6430/12860 (50%)\n",
      "\n",
      "Validate set:\n",
      "Average loss: 0.6931, Accuracy: 3215/6430 (50%)\n",
      "\n",
      "Train Epoch: 25 [0/12860 (0%)]\tLoss: 0.693736\n",
      "Train Epoch: 25 [12000/12860 (100%)]\tLoss: 0.694496\n",
      "Train set:\n",
      "Average loss: 0.6931, Accuracy: 6430/12860 (50%)\n",
      "\n",
      "Validate set:\n",
      "Average loss: 0.6932, Accuracy: 3215/6430 (50%)\n",
      "\n",
      "Train Epoch: 26 [0/12860 (0%)]\tLoss: 0.693108\n",
      "Train Epoch: 26 [12000/12860 (100%)]\tLoss: 0.694298\n",
      "Train set:\n",
      "Average loss: 0.6931, Accuracy: 6430/12860 (50%)\n",
      "\n",
      "Validate set:\n",
      "Average loss: 0.6932, Accuracy: 3215/6430 (50%)\n",
      "\n",
      "Train Epoch: 27 [0/12860 (0%)]\tLoss: 0.693289\n",
      "Train Epoch: 27 [12000/12860 (100%)]\tLoss: 0.694304\n",
      "Train set:\n",
      "Average loss: 0.6931, Accuracy: 6430/12860 (50%)\n",
      "\n",
      "Validate set:\n",
      "Average loss: 0.6932, Accuracy: 3215/6430 (50%)\n",
      "\n",
      "Train Epoch: 28 [0/12860 (0%)]\tLoss: 0.693286\n",
      "Train Epoch: 28 [12000/12860 (100%)]\tLoss: 0.694291\n",
      "Train set:\n",
      "Average loss: 0.6931, Accuracy: 6430/12860 (50%)\n",
      "\n",
      "Validate set:\n",
      "Average loss: 0.6932, Accuracy: 3215/6430 (50%)\n",
      "\n",
      "Train Epoch: 29 [0/12860 (0%)]\tLoss: 0.693292\n",
      "Train Epoch: 29 [12000/12860 (100%)]\tLoss: 0.694359\n",
      "Train set:\n",
      "Average loss: 0.6931, Accuracy: 6430/12860 (50%)\n",
      "\n",
      "Validate set:\n",
      "Average loss: 0.6932, Accuracy: 3215/6430 (50%)\n",
      "\n",
      "Train Epoch: 30 [0/12860 (0%)]\tLoss: 0.693246\n",
      "Train Epoch: 30 [12000/12860 (100%)]\tLoss: 0.694297\n",
      "Train set:\n",
      "Average loss: 0.6931, Accuracy: 6430/12860 (50%)\n",
      "\n",
      "Validate set:\n",
      "Average loss: 0.6932, Accuracy: 3215/6430 (50%)\n",
      "\n",
      "Train Epoch: 31 [0/12860 (0%)]\tLoss: 0.693288\n",
      "Train Epoch: 31 [12000/12860 (100%)]\tLoss: 0.694297\n",
      "Train set:\n",
      "Average loss: 0.6931, Accuracy: 6430/12860 (50%)\n",
      "\n",
      "Validate set:\n",
      "Average loss: 0.6932, Accuracy: 3215/6430 (50%)\n",
      "\n",
      "Train Epoch: 32 [0/12860 (0%)]\tLoss: 0.693290\n",
      "Train Epoch: 32 [12000/12860 (100%)]\tLoss: 0.694298\n",
      "Train set:\n",
      "Average loss: 0.6931, Accuracy: 6430/12860 (50%)\n",
      "\n",
      "Validate set:\n",
      "Average loss: 0.6932, Accuracy: 3215/6430 (50%)\n",
      "\n",
      "Train Epoch: 33 [0/12860 (0%)]\tLoss: 0.693289\n",
      "Train Epoch: 33 [12000/12860 (100%)]\tLoss: 0.694297\n",
      "Train set:\n",
      "Average loss: 0.6931, Accuracy: 6430/12860 (50%)\n",
      "\n",
      "Validate set:\n",
      "Average loss: 0.6932, Accuracy: 3215/6430 (50%)\n",
      "\n",
      "Train Epoch: 34 [0/12860 (0%)]\tLoss: 0.693289\n",
      "Train Epoch: 34 [12000/12860 (100%)]\tLoss: 0.694298\n",
      "Train set:\n",
      "Average loss: 0.6931, Accuracy: 6430/12860 (50%)\n",
      "\n",
      "Validate set:\n",
      "Average loss: 0.6932, Accuracy: 3215/6430 (50%)\n",
      "\n",
      "Train Epoch: 35 [0/12860 (0%)]\tLoss: 0.693289\n",
      "Train Epoch: 35 [12000/12860 (100%)]\tLoss: 0.694298\n",
      "Train set:\n",
      "Average loss: 0.6931, Accuracy: 6430/12860 (50%)\n",
      "\n",
      "Validate set:\n",
      "Average loss: 0.6932, Accuracy: 3215/6430 (50%)\n",
      "\n",
      "Train Epoch: 36 [0/12860 (0%)]\tLoss: 0.693289\n",
      "Train Epoch: 36 [12000/12860 (100%)]\tLoss: 0.694298\n",
      "Train set:\n",
      "Average loss: 0.6931, Accuracy: 6430/12860 (50%)\n",
      "\n",
      "Validate set:\n",
      "Average loss: 0.6932, Accuracy: 3215/6430 (50%)\n",
      "\n",
      "Train Epoch: 37 [0/12860 (0%)]\tLoss: 0.693289\n",
      "Train Epoch: 37 [12000/12860 (100%)]\tLoss: 0.694297\n",
      "Train set:\n",
      "Average loss: 0.6931, Accuracy: 6430/12860 (50%)\n",
      "\n",
      "Validate set:\n",
      "Average loss: 0.6932, Accuracy: 3215/6430 (50%)\n",
      "\n"
     ]
    },
    {
     "name": "stdout",
     "output_type": "stream",
     "text": [
      "Train Epoch: 38 [0/12860 (0%)]\tLoss: 0.693289\n",
      "Train Epoch: 38 [12000/12860 (100%)]\tLoss: 0.694298\n",
      "Train set:\n",
      "Average loss: 0.6931, Accuracy: 6430/12860 (50%)\n",
      "\n",
      "Validate set:\n",
      "Average loss: 0.6932, Accuracy: 3215/6430 (50%)\n",
      "\n",
      "Train Epoch: 39 [0/12860 (0%)]\tLoss: 0.693289\n",
      "Train Epoch: 39 [12000/12860 (100%)]\tLoss: 0.694281\n",
      "Train set:\n",
      "Average loss: 0.6931, Accuracy: 6430/12860 (50%)\n",
      "\n",
      "Validate set:\n",
      "Average loss: 0.6932, Accuracy: 3215/6430 (50%)\n",
      "\n",
      "Train Epoch: 40 [0/12860 (0%)]\tLoss: 0.693283\n",
      "Train Epoch: 40 [12000/12860 (100%)]\tLoss: 0.694297\n",
      "Train set:\n",
      "Average loss: 0.6931, Accuracy: 6430/12860 (50%)\n",
      "\n",
      "Validate set:\n",
      "Average loss: 0.6932, Accuracy: 3215/6430 (50%)\n",
      "\n",
      "Train Epoch: 41 [0/12860 (0%)]\tLoss: 0.693289\n",
      "Train Epoch: 41 [12000/12860 (100%)]\tLoss: 0.694297\n",
      "Train set:\n",
      "Average loss: 0.6931, Accuracy: 6430/12860 (50%)\n",
      "\n",
      "Validate set:\n",
      "Average loss: 0.6932, Accuracy: 3215/6430 (50%)\n",
      "\n",
      "Train Epoch: 42 [0/12860 (0%)]\tLoss: 0.693289\n",
      "Train Epoch: 42 [12000/12860 (100%)]\tLoss: 0.694297\n",
      "Train set:\n",
      "Average loss: 0.6931, Accuracy: 6430/12860 (50%)\n",
      "\n",
      "Validate set:\n",
      "Average loss: 0.6932, Accuracy: 3215/6430 (50%)\n",
      "\n",
      "Train Epoch: 43 [0/12860 (0%)]\tLoss: 0.693289\n",
      "Train Epoch: 43 [12000/12860 (100%)]\tLoss: 0.694308\n",
      "Train set:\n",
      "Average loss: 0.6931, Accuracy: 6430/12860 (50%)\n",
      "\n",
      "Validate set:\n",
      "Average loss: 0.6932, Accuracy: 3215/6430 (50%)\n",
      "\n",
      "Train Epoch: 44 [0/12860 (0%)]\tLoss: 0.693288\n",
      "Train Epoch: 44 [12000/12860 (100%)]\tLoss: 0.694284\n",
      "Train set:\n",
      "Average loss: 0.6931, Accuracy: 6430/12860 (50%)\n",
      "\n",
      "Validate set:\n",
      "Average loss: 0.6932, Accuracy: 3215/6430 (50%)\n",
      "\n",
      "Train Epoch: 45 [0/12860 (0%)]\tLoss: 0.693287\n",
      "Train Epoch: 45 [12000/12860 (100%)]\tLoss: 0.694297\n",
      "Train set:\n",
      "Average loss: 0.6931, Accuracy: 6430/12860 (50%)\n",
      "\n",
      "Validate set:\n",
      "Average loss: 0.6932, Accuracy: 3215/6430 (50%)\n",
      "\n",
      "Train Epoch: 46 [0/12860 (0%)]\tLoss: 0.693286\n",
      "Train Epoch: 46 [12000/12860 (100%)]\tLoss: 0.694297\n",
      "Train set:\n",
      "Average loss: 0.6931, Accuracy: 6430/12860 (50%)\n",
      "\n",
      "Validate set:\n",
      "Average loss: 0.6932, Accuracy: 3215/6430 (50%)\n",
      "\n",
      "Train Epoch: 47 [0/12860 (0%)]\tLoss: 0.693289\n",
      "Train Epoch: 47 [12000/12860 (100%)]\tLoss: 0.694297\n",
      "Train set:\n",
      "Average loss: 0.6931, Accuracy: 6430/12860 (50%)\n",
      "\n",
      "Validate set:\n",
      "Average loss: 0.6932, Accuracy: 3215/6430 (50%)\n",
      "\n",
      "Train Epoch: 48 [0/12860 (0%)]\tLoss: 0.693289\n",
      "Train Epoch: 48 [12000/12860 (100%)]\tLoss: 0.694297\n",
      "Train set:\n",
      "Average loss: 0.6931, Accuracy: 6430/12860 (50%)\n",
      "\n",
      "Validate set:\n",
      "Average loss: 0.6932, Accuracy: 3215/6430 (50%)\n",
      "\n",
      "Train Epoch: 49 [0/12860 (0%)]\tLoss: 0.693289\n",
      "Train Epoch: 49 [12000/12860 (100%)]\tLoss: 0.694297\n",
      "Train set:\n",
      "Average loss: 0.6931, Accuracy: 6430/12860 (50%)\n",
      "\n",
      "Validate set:\n",
      "Average loss: 0.6932, Accuracy: 3215/6430 (50%)\n",
      "\n",
      "Train Epoch: 50 [0/12860 (0%)]\tLoss: 0.693289\n",
      "Train Epoch: 50 [12000/12860 (100%)]\tLoss: 0.694297\n",
      "Train set:\n",
      "Average loss: 0.6931, Accuracy: 6430/12860 (50%)\n",
      "\n",
      "Validate set:\n",
      "Average loss: 0.6932, Accuracy: 3215/6430 (50%)\n",
      "\n"
     ]
    }
   ],
   "source": [
    "info_dict = main(model, train_loader, validate_loader, optimizer, loss_function, 50)"
   ]
  },
  {
   "cell_type": "code",
   "execution_count": 35,
   "id": "19d8c1a8",
   "metadata": {},
   "outputs": [],
   "source": [
    "from matplotlib import font_manager\n",
    "\n",
    "config = {\n",
    "    \"font.family\":'Times New Roman', # sans-serif/serif/cursive/fantasy/monospace\n",
    "    \"font.size\": 15, # medium/large/small\n",
    "    'font.style':'normal', # normal/italic/oblique\n",
    "    'font.weight':'normal', # bold\n",
    "    \"mathtext.fontset\":'cm',# 'cm' (Computer Modern)\n",
    "    \"font.serif\": ['cmb10'], # 'Simsun'宋体\n",
    "    \"axes.unicode_minus\": False,# 用来正常显示负号\n",
    "}\n",
    "\n",
    "# plot\n",
    "def EA_curve(train_loss_vector, validate_loss_vector, train_acc_vector, validate_acc_vector, num_epochs):\n",
    "    plt.figure(figsize=(5, 3))\n",
    "    plt.rcParams.update(config)\n",
    "    plt.plot(np.arange(1, num_epochs+1), train_loss_vector, label=\"Train error\", color='r')\n",
    "    plt.plot(np.arange(1, num_epochs+1), validate_loss_vector, label=\"Validation error\", color='blue')\n",
    "    plt.title(\"Error\")\n",
    "    plt.legend(loc=\"best\")\n",
    "    plt.xlabel(\"Epoch\")\n",
    "    plt.ylabel(\"Error\")\n",
    "    \n",
    "    plt.figure(figsize=(5,3))\n",
    "    plt.plot(np.arange(1,num_epochs+1), train_acc_vector,label=\"Train accuracy\", color='r')\n",
    "    plt.plot(np.arange(1,num_epochs+1), validate_acc_vector,label=\"Validation accuracy\", color='blue')\n",
    "    plt.title('Accuracy')\n",
    "    plt.legend(loc = \"best\")\n",
    "    plt.xlabel(\"Epoch\")\n",
    "    plt.ylabel(\"Accuracy\")"
   ]
  },
  {
   "cell_type": "code",
   "execution_count": 36,
   "id": "45de2875",
   "metadata": {},
   "outputs": [
    {
     "data": {
      "image/png": "[encoded data removed]",
      "text/plain": [
       "<Figure size 500x300 with 1 Axes>"
      ]
     },
     "metadata": {},
     "output_type": "display_data"
    },
    {
     "data": {
      "image/png": "[encoded data removed]",
      "text/plain": [
       "<Figure size 500x300 with 1 Axes>"
      ]
     },
     "metadata": {},
     "output_type": "display_data"
    }
   ],
   "source": [
    "EA_curve(info_dict['train'][0], info_dict['validate'][0], info_dict['train'][1], info_dict['validate'][1], 50)"
   ]
  },
  {
   "cell_type": "code",
   "execution_count": 30,
   "id": "140e4b90",
   "metadata": {},
   "outputs": [],
   "source": [
    "# accuracy calculation\n",
    "# !!! it requires the input object still possessing the \"data\" and \"targets\" attributes\n",
    "def accuracyCal(model, test_data):\n",
    "    model.eval()\n",
    "    output = model(test_data.data/255)\n",
    "    pred = output.data.max(1)[1]\n",
    "    accuracy = pred.eq(test_data.targets).cpu().sum().to(torch.float32) / len(test_data)\n",
    "    print(accuracy)"
   ]
  },
  {
   "cell_type": "code",
   "execution_count": 31,
   "id": "27ac65e8",
   "metadata": {},
   "outputs": [],
   "source": [
    "# type(test_data)\n",
    "# accuracyCal(model, test_data)"
   ]
  },
  {
   "cell_type": "code",
   "execution_count": 32,
   "id": "4f5c28eb",
   "metadata": {},
   "outputs": [
    {
     "name": "stdout",
     "output_type": "stream",
     "text": [
      "Accuracy：50.00%\n"
     ]
    }
   ],
   "source": [
    "# accuracy calculation\n",
    "model.eval()\n",
    "correct = 0\n",
    "total = 0\n",
    "for images, labels in test_loader:\n",
    "    images = images.float()\n",
    "    outputs = model(images).cpu()\n",
    "    _, predicted = torch.max(outputs.data, 1)\n",
    "    total += labels.size(0)\n",
    "    correct += (predicted == labels).sum()\n",
    "\n",
    "print('Accuracy：%.2f%%' % (100 * correct / total))"
   ]
  },
  {
   "cell_type": "code",
   "execution_count": 37,
   "id": "f1f8ed1d",
   "metadata": {},
   "outputs": [],
   "source": [
    "# Save trained model\n",
    "# torch.save(model.state_dict(), 'results/LeNet5-cellimage.pkl')\n",
    "torch.save(model, 'results/LeNet5-weightsdecay-cellimage.pkl')\n",
    "# model_re = torch.load('results/LeNet5-cellimage.pkl')"
   ]
  },
  {
   "cell_type": "code",
   "execution_count": null,
   "id": "a53dd236",
   "metadata": {},
   "outputs": [],
   "source": []
  }
 ],
 "metadata": {
  "kernelspec": {
   "display_name": "selfmade-deeplearning",
   "language": "python",
   "name": "deeplearning"
  },
  "language_info": {
   "codemirror_mode": {
    "name": "ipython",
    "version": 3
   },
   "file_extension": ".py",
   "mimetype": "text/x-python",
   "name": "python",
   "nbconvert_exporter": "python",
   "pygments_lexer": "ipython3",
   "version": "3.10.8"
  }
 },
 "nbformat": 4,
 "nbformat_minor": 5
}
