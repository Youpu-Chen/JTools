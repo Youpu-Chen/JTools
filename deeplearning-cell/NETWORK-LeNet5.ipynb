{
 "cells": [
  {
   "cell_type": "code",
   "execution_count": 25,
   "id": "9b13f8d9",
   "metadata": {},
   "outputs": [],
   "source": [
    "import os\n",
    "# torch\n",
    "import torch.utils.data\n",
    "from torch.utils.data import Dataset, DataLoader\n",
    "import torch.nn as nn\n",
    "from torch.nn import functional as F\n",
    "from torch import optim\n",
    "\n",
    "# torchvision\n",
    "import torchvision\n",
    "from torchvision import transforms"
   ]
  },
  {
   "cell_type": "code",
   "execution_count": 26,
   "id": "daf9b893",
   "metadata": {},
   "outputs": [],
   "source": [
    "import numpy as np\n",
    "import matplotlib.pyplot as plt"
   ]
  },
  {
   "cell_type": "code",
   "execution_count": 27,
   "id": "0d688118",
   "metadata": {},
   "outputs": [],
   "source": [
    "# Preset parameters\n",
    "BATCH_SIZE = 64\n",
    "learning_rate = 1e-1\n",
    "keep_prob = 0.7"
   ]
  },
  {
   "cell_type": "code",
   "execution_count": 28,
   "id": "999c167d",
   "metadata": {},
   "outputs": [],
   "source": [
    "# Load datasets\n",
    "# tf = transforms.Compose([transforms.ToTensor(), transforms.Resize((64,64))])  # 转为张量数据，同时resize为64*64\n",
    "tf = transforms.Compose([transforms.ToTensor(), transforms.Resize([28, 28])])  # 转为张量数据，同时resize为28*28\n",
    "db = torchvision.datasets.ImageFolder(root = 'data', transform = tf) "
   ]
  },
  {
   "cell_type": "code",
   "execution_count": 29,
   "id": "03b7a635",
   "metadata": {},
   "outputs": [
    {
     "data": {
      "text/plain": [
       "Dataset ImageFolder\n",
       "    Number of datapoints: 27558\n",
       "    Root location: data\n",
       "    StandardTransform\n",
       "Transform: Compose(\n",
       "               ToTensor()\n",
       "               Resize(size=[28, 28], interpolation=bilinear, max_size=None, antialias=None)\n",
       "           )"
      ]
     },
     "execution_count": 29,
     "metadata": {},
     "output_type": "execute_result"
    }
   ],
   "source": [
    "# Chekc info\n",
    "db"
   ]
  },
  {
   "cell_type": "code",
   "execution_count": 30,
   "id": "20c075b2",
   "metadata": {},
   "outputs": [],
   "source": [
    "# ### Spliting\n",
    "# unsplit_data, test_data = torch.utils.data.random_split(db, [19290, 8268])\n",
    "# train_data, val_data = torch.utils.data.random_split(unsplit_data, [12860, 6430])\n",
    "\n",
    "# # Retrieving\n",
    "# train_loader = torch.utils.data.DataLoader(dataset = train_data, batch_size = BATCH_SIZE, shuffle = True)\n",
    "# validation_loader = torch.utils.data.DataLoader(dataset = val_data, batch_size = BATCH_SIZE, shuffle = False)\n",
    "# test_loader = torch.utils.data.DataLoader(dataset = test_data, batch_size = BATCH_SIZE, shuffle = False)"
   ]
  },
  {
   "cell_type": "code",
   "execution_count": 31,
   "id": "92e587d3",
   "metadata": {},
   "outputs": [],
   "source": [
    "### Stratified spliting\n",
    "from sklearn.model_selection import train_test_split"
   ]
  },
  {
   "cell_type": "code",
   "execution_count": 32,
   "id": "9bd9ac43",
   "metadata": {},
   "outputs": [],
   "source": [
    "targets = db.targets\n",
    "\n",
    "train_idx, test_idx= train_test_split(np.arange(len(targets)), train_size=(0.7*2/3), test_size=0.3, shuffle=True, stratify=targets)\n",
    "validate_idx = np.setdiff1d(np.arange(len(targets)), np.union1d(train_idx, test_idx))\n",
    "\n",
    "# train_sampler = torch.utils.data.SubsetRandomSampler(train_idx)\n",
    "# validate_sampler = torch.utils.data.SubsetRandomSampler(train_idx)\n",
    "# test_sampler = torch.utils.data.SubsetRandomSampler(test_idx)\n",
    "\n",
    "train_data = torch.utils.data.Subset(db, train_idx)\n",
    "test_data = torch.utils.data.Subset(db, test_idx)\n",
    "validate_data = torch.utils.data.Subset(db, validate_idx)"
   ]
  },
  {
   "cell_type": "code",
   "execution_count": 33,
   "id": "6fe49e72",
   "metadata": {},
   "outputs": [
    {
     "name": "stdout",
     "output_type": "stream",
     "text": [
      "The train dataset: 12860,0.47\n",
      "The validate dataset: 6430, 0.23\n",
      "The test dataset: 8268, 0.30\n",
      "total length: 27558\n"
     ]
    }
   ],
   "source": [
    "tt = len(train_idx) + len(validate_idx) + len(test_idx)\n",
    "\n",
    "print(f'''The train dataset: {len(train_idx)},{len(train_idx)/tt:.2f}\n",
    "The validate dataset: {len(validate_idx)}, {len(validate_idx)/tt:.2f}\n",
    "The test dataset: {len(test_idx)}, {len(test_idx)/tt:.2f}\n",
    "total length: {tt}''')"
   ]
  },
  {
   "cell_type": "code",
   "execution_count": 34,
   "id": "3db9b51a",
   "metadata": {},
   "outputs": [
    {
     "data": {
      "text/plain": [
       "6430"
      ]
     },
     "execution_count": 34,
     "metadata": {},
     "output_type": "execute_result"
    }
   ],
   "source": [
    "# 验证拆分结果\n",
    "len(np.setdiff1d(np.arange(len(targets)), np.union1d(train_idx, test_idx)))"
   ]
  },
  {
   "cell_type": "code",
   "execution_count": 35,
   "id": "21bbbb36",
   "metadata": {},
   "outputs": [
    {
     "data": {
      "text/plain": [
       "array([], dtype=int32)"
      ]
     },
     "execution_count": 35,
     "metadata": {},
     "output_type": "execute_result"
    }
   ],
   "source": [
    "# 验证拆分结果\n",
    "np.intersect1d(train_idx, test_idx)"
   ]
  },
  {
   "cell_type": "code",
   "execution_count": 36,
   "id": "164e929c",
   "metadata": {},
   "outputs": [],
   "source": [
    "# train_loader = torch.utils.data.DataLoader(db, batch_size=BATCH_SIZE, sampler=train_sampler)\n",
    "# validate_loader = torch.utils.data.DataLoader(db, batch_size=BATCH_SIZE, sampler=validate_sampler)\n",
    "# test_loader = torch.utils.data.DataLoader(db, batch_size=BATCH_SIZE, sampler=test_sampler)\n",
    "\n",
    "train_loader = torch.utils.data.DataLoader(train_data, batch_size=BATCH_SIZE)\n",
    "validate_loader = torch.utils.data.DataLoader(validate_data, batch_size=BATCH_SIZE)\n",
    "test_loader = torch.utils.data.DataLoader(test_data, batch_size=BATCH_SIZE)"
   ]
  },
  {
   "cell_type": "code",
   "execution_count": 37,
   "id": "a256427e",
   "metadata": {},
   "outputs": [
    {
     "data": {
      "text/plain": [
       "27558"
      ]
     },
     "execution_count": 37,
     "metadata": {},
     "output_type": "execute_result"
    }
   ],
   "source": [
    "len(db.targets)"
   ]
  },
  {
   "cell_type": "code",
   "execution_count": 38,
   "id": "4cd66dbb",
   "metadata": {},
   "outputs": [
    {
     "data": {
      "text/plain": [
       "12860"
      ]
     },
     "execution_count": 38,
     "metadata": {},
     "output_type": "execute_result"
    }
   ],
   "source": [
    "len(train_loader.dataset)"
   ]
  },
  {
   "cell_type": "code",
   "execution_count": 39,
   "id": "7f26d8f6",
   "metadata": {},
   "outputs": [],
   "source": [
    "# LeNet5\n",
    "class LeNet5(nn.Module):\n",
    "    \n",
    "    def __init__(self):\n",
    "        super(LeNet5, self).__init__() # 超继承\n",
    "        self.model = nn.Sequential(\n",
    "        # 第一个卷积层\n",
    "        nn.Conv2d(3, 6, kernel_size=3, stride=1),\n",
    "        # 高宽各减半的池化层\n",
    "        nn.MaxPool2d(kernel_size=2, stride=2),\n",
    "        nn.ReLU(),\n",
    "        # 第二个卷积层\n",
    "        nn.Conv2d(6, 16, kernel_size=3, stride=1),\n",
    "        # 高宽各减半的池化层\n",
    "        nn.MaxPool2d(kernel_size=2, stride=2),\n",
    "        nn.ReLU(),\n",
    "        \n",
    "        # 展开\n",
    "        nn.Flatten(),\n",
    "        # MLP\n",
    "        nn.Linear(400, 120, bias=True),\n",
    "        nn.ReLU(),\n",
    "        nn.Linear(120, 84, bias=True),\n",
    "        nn.ReLU(),\n",
    "        nn.Dropout(keep_prob),\n",
    "        nn.Linear(84, 2),\n",
    "        )\n",
    "    def forward(self, x):\n",
    "        x = self.model(x)\n",
    "        x_softmax = F.softmax(x, dim=1)\n",
    "        return x_softmax"
   ]
  },
  {
   "cell_type": "code",
   "execution_count": 40,
   "id": "f742ef7f",
   "metadata": {},
   "outputs": [],
   "source": [
    "model = LeNet5()"
   ]
  },
  {
   "cell_type": "code",
   "execution_count": 41,
   "id": "f3be73f9",
   "metadata": {},
   "outputs": [],
   "source": [
    "#  optimizer & loss function\n",
    "optimizer = optim.SGD(model.parameters(), lr=learning_rate, momentum=0.9)\n",
    "loss_function = nn.CrossEntropyLoss()"
   ]
  },
  {
   "cell_type": "code",
   "execution_count": 42,
   "id": "3ddcb19b",
   "metadata": {},
   "outputs": [],
   "source": [
    "def train(\n",
    "    model,\n",
    "    data_loader,\n",
    "    optimizer,\n",
    "    loss_function,\n",
    "    epoch,\n",
    "    log_interval=200    # print out info every 200 batches\n",
    "):\n",
    "    model.train()\n",
    "    for batch_idx, (x, label) in enumerate(data_loader):\n",
    "        \n",
    "        optimizer.zero_grad()\n",
    "        output = model(x)\n",
    "        loss = loss_function(output, label)\n",
    "        loss.backward()\n",
    "        optimizer.step()\n",
    "        if batch_idx % log_interval == 0:\n",
    "            print(\"Train Epoch: {} [{}/{} ({:.0f}%)]\\tLoss: {:.6f}\".format(\n",
    "                epoch, batch_idx*len(x), len(data_loader.dataset),\n",
    "                100. * batch_idx/len(data_loader), loss.data.item()\n",
    "                # \"batch_idx/len(data_loader)\" = 当前的batch index除以batch总数\n",
    "            ))"
   ]
  },
  {
   "cell_type": "code",
   "execution_count": 43,
   "id": "aee42921",
   "metadata": {},
   "outputs": [],
   "source": [
    "def validate(\n",
    "    model, \n",
    "    data_loader,\n",
    "    loss_function,\n",
    "    epoch,\n",
    "    loss_vector,\n",
    "    accuracy_vector\n",
    "):\n",
    "    '''applied at train dataset as well as validate dataset'''\n",
    "    model.eval()\n",
    "    loss, correct = 0, 0\n",
    "    for x, label in data_loader: # retrieve tensor dataset and label\n",
    "        output = model(x)\n",
    "        loss += loss_function(output, label).data.item()   # \"loss_function\" is pre-defined, which should be applied in this section\n",
    "        pred = output.data.max(1)[1]\n",
    "        correct += pred.eq(label.data).cpu().sum()\n",
    "    \n",
    "    # save cal\n",
    "    loss /= len(data_loader)\n",
    "#     print(data_loader.dataset)\n",
    "    loss_vector.append(loss) # for plotting\n",
    "    accuracy = 100. * correct.to(torch.float32) / len(data_loader.dataset)\n",
    "    accuracy_vector.append(accuracy)\n",
    "    print('Average loss: {:.4f}, Accuracy: {}/{} ({:.0f}%)\\n'.format(\n",
    "        loss, correct, len(data_loader.dataset), accuracy\n",
    "    ))"
   ]
  },
  {
   "cell_type": "code",
   "execution_count": 44,
   "id": "7b1c298a",
   "metadata": {},
   "outputs": [],
   "source": [
    "def main(model, train_loader, validate_loader, optimizer, loss_function, num_epochs):\n",
    "    lossv, accv = [], []\n",
    "    train_lossv, train_accv = [], []\n",
    "    for epoch in range(1, num_epochs+1):\n",
    "        train(model, train_loader, optimizer, loss_function, epoch)\n",
    "        print(\"Train set:\")\n",
    "        validate(model, train_loader, loss_function, epoch, train_lossv, train_accv)\n",
    "        print(\"Validate set:\")\n",
    "        validate(model, validate_loader, loss_function, epoch, lossv, accv)\n",
    "    return {'validate':[lossv, accv], 'train':[train_lossv, train_accv]}"
   ]
  },
  {
   "cell_type": "code",
   "execution_count": 45,
   "id": "4ee46a45",
   "metadata": {
    "scrolled": true
   },
   "outputs": [
    {
     "name": "stdout",
     "output_type": "stream",
     "text": [
      "Train Epoch: 1 [0/12860 (0%)]\tLoss: 0.689810\n",
      "Train Epoch: 1 [12000/12860 (100%)]\tLoss: 0.702367\n",
      "Train set:\n",
      "Average loss: 0.6897, Accuracy: 6430/12860 (50%)\n",
      "\n",
      "Validate set:\n",
      "Average loss: 0.6903, Accuracy: 3215/6430 (50%)\n",
      "\n",
      "Train Epoch: 2 [0/12860 (0%)]\tLoss: 0.690371\n",
      "Train Epoch: 2 [12000/12860 (100%)]\tLoss: 0.629691\n",
      "Train set:\n",
      "Average loss: 0.6046, Accuracy: 8991/12860 (70%)\n",
      "\n",
      "Validate set:\n",
      "Average loss: 0.6077, Accuracy: 4462/6430 (69%)\n",
      "\n",
      "Train Epoch: 3 [0/12860 (0%)]\tLoss: 0.630547\n",
      "Train Epoch: 3 [12000/12860 (100%)]\tLoss: 0.638471\n",
      "Train set:\n",
      "Average loss: 0.6391, Accuracy: 8401/12860 (65%)\n",
      "\n",
      "Validate set:\n",
      "Average loss: 0.6411, Accuracy: 4155/6430 (65%)\n",
      "\n",
      "Train Epoch: 4 [0/12860 (0%)]\tLoss: 0.648056\n",
      "Train Epoch: 4 [12000/12860 (100%)]\tLoss: 0.523602\n",
      "Train set:\n",
      "Average loss: 0.5292, Accuracy: 9999/12860 (78%)\n",
      "\n",
      "Validate set:\n",
      "Average loss: 0.5363, Accuracy: 4935/6430 (77%)\n",
      "\n",
      "Train Epoch: 5 [0/12860 (0%)]\tLoss: 0.582949\n",
      "Train Epoch: 5 [12000/12860 (100%)]\tLoss: 0.468740\n",
      "Train set:\n",
      "Average loss: 0.4592, Accuracy: 10964/12860 (85%)\n",
      "\n",
      "Validate set:\n",
      "Average loss: 0.4621, Accuracy: 5461/6430 (85%)\n",
      "\n",
      "Train Epoch: 6 [0/12860 (0%)]\tLoss: 0.500196\n",
      "Train Epoch: 6 [12000/12860 (100%)]\tLoss: 0.480165\n",
      "Train set:\n",
      "Average loss: 0.4888, Accuracy: 10576/12860 (82%)\n",
      "\n",
      "Validate set:\n",
      "Average loss: 0.4827, Accuracy: 5328/6430 (83%)\n",
      "\n",
      "Train Epoch: 7 [0/12860 (0%)]\tLoss: 0.487402\n",
      "Train Epoch: 7 [12000/12860 (100%)]\tLoss: 0.449512\n",
      "Train set:\n",
      "Average loss: 0.4722, Accuracy: 10782/12860 (84%)\n",
      "\n",
      "Validate set:\n",
      "Average loss: 0.4671, Accuracy: 5421/6430 (84%)\n",
      "\n",
      "Train Epoch: 8 [0/12860 (0%)]\tLoss: 0.526216\n",
      "Train Epoch: 8 [12000/12860 (100%)]\tLoss: 0.407254\n",
      "Train set:\n",
      "Average loss: 0.4527, Accuracy: 10970/12860 (85%)\n",
      "\n",
      "Validate set:\n",
      "Average loss: 0.4542, Accuracy: 5472/6430 (85%)\n",
      "\n",
      "Train Epoch: 9 [0/12860 (0%)]\tLoss: 0.481006\n",
      "Train Epoch: 9 [12000/12860 (100%)]\tLoss: 0.432815\n",
      "Train set:\n",
      "Average loss: 0.4524, Accuracy: 11037/12860 (86%)\n",
      "\n",
      "Validate set:\n",
      "Average loss: 0.4484, Accuracy: 5537/6430 (86%)\n",
      "\n",
      "Train Epoch: 10 [0/12860 (0%)]\tLoss: 0.516122\n",
      "Train Epoch: 10 [12000/12860 (100%)]\tLoss: 0.450267\n",
      "Train set:\n",
      "Average loss: 0.4591, Accuracy: 10897/12860 (85%)\n",
      "\n",
      "Validate set:\n",
      "Average loss: 0.4626, Accuracy: 5420/6430 (84%)\n",
      "\n",
      "Train Epoch: 11 [0/12860 (0%)]\tLoss: 0.521489\n",
      "Train Epoch: 11 [12000/12860 (100%)]\tLoss: 0.478054\n",
      "Train set:\n",
      "Average loss: 0.4612, Accuracy: 10940/12860 (85%)\n",
      "\n",
      "Validate set:\n",
      "Average loss: 0.4548, Accuracy: 5510/6430 (86%)\n",
      "\n",
      "Train Epoch: 12 [0/12860 (0%)]\tLoss: 0.484237\n",
      "Train Epoch: 12 [12000/12860 (100%)]\tLoss: 0.420358\n",
      "Train set:\n",
      "Average loss: 0.4424, Accuracy: 11163/12860 (87%)\n",
      "\n",
      "Validate set:\n",
      "Average loss: 0.4383, Accuracy: 5599/6430 (87%)\n",
      "\n",
      "Train Epoch: 13 [0/12860 (0%)]\tLoss: 0.514408\n",
      "Train Epoch: 13 [12000/12860 (100%)]\tLoss: 0.420495\n",
      "Train set:\n",
      "Average loss: 0.4480, Accuracy: 11097/12860 (86%)\n",
      "\n",
      "Validate set:\n",
      "Average loss: 0.4406, Accuracy: 5589/6430 (87%)\n",
      "\n",
      "Train Epoch: 14 [0/12860 (0%)]\tLoss: 0.497284\n",
      "Train Epoch: 14 [12000/12860 (100%)]\tLoss: 0.441768\n",
      "Train set:\n",
      "Average loss: 0.4393, Accuracy: 11200/12860 (87%)\n",
      "\n",
      "Validate set:\n",
      "Average loss: 0.4386, Accuracy: 5603/6430 (87%)\n",
      "\n",
      "Train Epoch: 15 [0/12860 (0%)]\tLoss: 0.456198\n",
      "Train Epoch: 15 [12000/12860 (100%)]\tLoss: 0.929928\n",
      "Train set:\n",
      "Average loss: 0.8133, Accuracy: 6430/12860 (50%)\n",
      "\n",
      "Validate set:\n",
      "Average loss: 0.8159, Accuracy: 3215/6430 (50%)\n",
      "\n",
      "Train Epoch: 16 [0/12860 (0%)]\tLoss: 0.750762\n",
      "Train Epoch: 16 [12000/12860 (100%)]\tLoss: 0.929928\n",
      "Train set:\n",
      "Average loss: 0.8133, Accuracy: 6430/12860 (50%)\n",
      "\n",
      "Validate set:\n",
      "Average loss: 0.8159, Accuracy: 3215/6430 (50%)\n",
      "\n",
      "Train Epoch: 17 [0/12860 (0%)]\tLoss: 0.750762\n",
      "Train Epoch: 17 [12000/12860 (100%)]\tLoss: 0.929928\n",
      "Train set:\n",
      "Average loss: 0.8133, Accuracy: 6430/12860 (50%)\n",
      "\n",
      "Validate set:\n",
      "Average loss: 0.8159, Accuracy: 3215/6430 (50%)\n",
      "\n",
      "Train Epoch: 18 [0/12860 (0%)]\tLoss: 0.750762\n",
      "Train Epoch: 18 [12000/12860 (100%)]\tLoss: 0.929928\n",
      "Train set:\n",
      "Average loss: 0.8133, Accuracy: 6430/12860 (50%)\n",
      "\n",
      "Validate set:\n",
      "Average loss: 0.8159, Accuracy: 3215/6430 (50%)\n",
      "\n",
      "Train Epoch: 19 [0/12860 (0%)]\tLoss: 0.750762\n",
      "Train Epoch: 19 [12000/12860 (100%)]\tLoss: 0.929928\n",
      "Train set:\n",
      "Average loss: 0.8133, Accuracy: 6430/12860 (50%)\n",
      "\n",
      "Validate set:\n",
      "Average loss: 0.8159, Accuracy: 3215/6430 (50%)\n",
      "\n",
      "Train Epoch: 20 [0/12860 (0%)]\tLoss: 0.750762\n",
      "Train Epoch: 20 [12000/12860 (100%)]\tLoss: 0.929928\n",
      "Train set:\n",
      "Average loss: 0.8133, Accuracy: 6430/12860 (50%)\n",
      "\n",
      "Validate set:\n",
      "Average loss: 0.8159, Accuracy: 3215/6430 (50%)\n",
      "\n",
      "Train Epoch: 21 [0/12860 (0%)]\tLoss: 0.750762\n",
      "Train Epoch: 21 [12000/12860 (100%)]\tLoss: 0.929928\n",
      "Train set:\n",
      "Average loss: 0.8133, Accuracy: 6430/12860 (50%)\n",
      "\n",
      "Validate set:\n",
      "Average loss: 0.8159, Accuracy: 3215/6430 (50%)\n",
      "\n",
      "Train Epoch: 22 [0/12860 (0%)]\tLoss: 0.750762\n",
      "Train Epoch: 22 [12000/12860 (100%)]\tLoss: 0.929928\n",
      "Train set:\n",
      "Average loss: 0.8133, Accuracy: 6430/12860 (50%)\n",
      "\n",
      "Validate set:\n",
      "Average loss: 0.8159, Accuracy: 3215/6430 (50%)\n",
      "\n",
      "Train Epoch: 23 [0/12860 (0%)]\tLoss: 0.750762\n",
      "Train Epoch: 23 [12000/12860 (100%)]\tLoss: 0.929928\n",
      "Train set:\n",
      "Average loss: 0.8133, Accuracy: 6430/12860 (50%)\n",
      "\n",
      "Validate set:\n",
      "Average loss: 0.8159, Accuracy: 3215/6430 (50%)\n",
      "\n",
      "Train Epoch: 24 [0/12860 (0%)]\tLoss: 0.750762\n",
      "Train Epoch: 24 [12000/12860 (100%)]\tLoss: 0.929928\n",
      "Train set:\n",
      "Average loss: 0.8133, Accuracy: 6430/12860 (50%)\n",
      "\n",
      "Validate set:\n",
      "Average loss: 0.8159, Accuracy: 3215/6430 (50%)\n",
      "\n",
      "Train Epoch: 25 [0/12860 (0%)]\tLoss: 0.750762\n",
      "Train Epoch: 25 [12000/12860 (100%)]\tLoss: 0.929928\n",
      "Train set:\n",
      "Average loss: 0.8133, Accuracy: 6430/12860 (50%)\n",
      "\n",
      "Validate set:\n",
      "Average loss: 0.8159, Accuracy: 3215/6430 (50%)\n",
      "\n",
      "Train Epoch: 26 [0/12860 (0%)]\tLoss: 0.750762\n",
      "Train Epoch: 26 [12000/12860 (100%)]\tLoss: 0.929928\n",
      "Train set:\n",
      "Average loss: 0.8133, Accuracy: 6430/12860 (50%)\n",
      "\n",
      "Validate set:\n",
      "Average loss: 0.8159, Accuracy: 3215/6430 (50%)\n",
      "\n",
      "Train Epoch: 27 [0/12860 (0%)]\tLoss: 0.750762\n",
      "Train Epoch: 27 [12000/12860 (100%)]\tLoss: 0.929928\n",
      "Train set:\n",
      "Average loss: 0.8133, Accuracy: 6430/12860 (50%)\n",
      "\n",
      "Validate set:\n",
      "Average loss: 0.8159, Accuracy: 3215/6430 (50%)\n",
      "\n",
      "Train Epoch: 28 [0/12860 (0%)]\tLoss: 0.750762\n",
      "Train Epoch: 28 [12000/12860 (100%)]\tLoss: 0.929928\n",
      "Train set:\n",
      "Average loss: 0.8133, Accuracy: 6430/12860 (50%)\n",
      "\n",
      "Validate set:\n",
      "Average loss: 0.8159, Accuracy: 3215/6430 (50%)\n",
      "\n",
      "Train Epoch: 29 [0/12860 (0%)]\tLoss: 0.750762\n",
      "Train Epoch: 29 [12000/12860 (100%)]\tLoss: 0.929928\n",
      "Train set:\n",
      "Average loss: 0.8133, Accuracy: 6430/12860 (50%)\n",
      "\n",
      "Validate set:\n",
      "Average loss: 0.8159, Accuracy: 3215/6430 (50%)\n",
      "\n",
      "Train Epoch: 30 [0/12860 (0%)]\tLoss: 0.750762\n",
      "Train Epoch: 30 [12000/12860 (100%)]\tLoss: 0.929928\n",
      "Train set:\n",
      "Average loss: 0.8133, Accuracy: 6430/12860 (50%)\n",
      "\n",
      "Validate set:\n",
      "Average loss: 0.8159, Accuracy: 3215/6430 (50%)\n",
      "\n",
      "Train Epoch: 31 [0/12860 (0%)]\tLoss: 0.750762\n",
      "Train Epoch: 31 [12000/12860 (100%)]\tLoss: 0.929928\n",
      "Train set:\n",
      "Average loss: 0.8133, Accuracy: 6430/12860 (50%)\n",
      "\n",
      "Validate set:\n",
      "Average loss: 0.8159, Accuracy: 3215/6430 (50%)\n",
      "\n",
      "Train Epoch: 32 [0/12860 (0%)]\tLoss: 0.750762\n",
      "Train Epoch: 32 [12000/12860 (100%)]\tLoss: 0.929928\n",
      "Train set:\n",
      "Average loss: 0.8133, Accuracy: 6430/12860 (50%)\n",
      "\n",
      "Validate set:\n",
      "Average loss: 0.8159, Accuracy: 3215/6430 (50%)\n",
      "\n",
      "Train Epoch: 33 [0/12860 (0%)]\tLoss: 0.750762\n",
      "Train Epoch: 33 [12000/12860 (100%)]\tLoss: 0.929928\n",
      "Train set:\n",
      "Average loss: 0.8133, Accuracy: 6430/12860 (50%)\n",
      "\n",
      "Validate set:\n",
      "Average loss: 0.8159, Accuracy: 3215/6430 (50%)\n",
      "\n",
      "Train Epoch: 34 [0/12860 (0%)]\tLoss: 0.750762\n",
      "Train Epoch: 34 [12000/12860 (100%)]\tLoss: 0.929928\n",
      "Train set:\n",
      "Average loss: 0.8133, Accuracy: 6430/12860 (50%)\n",
      "\n",
      "Validate set:\n",
      "Average loss: 0.8159, Accuracy: 3215/6430 (50%)\n",
      "\n",
      "Train Epoch: 35 [0/12860 (0%)]\tLoss: 0.750762\n",
      "Train Epoch: 35 [12000/12860 (100%)]\tLoss: 0.929928\n",
      "Train set:\n",
      "Average loss: 0.8133, Accuracy: 6430/12860 (50%)\n",
      "\n",
      "Validate set:\n",
      "Average loss: 0.8159, Accuracy: 3215/6430 (50%)\n",
      "\n",
      "Train Epoch: 36 [0/12860 (0%)]\tLoss: 0.750762\n",
      "Train Epoch: 36 [12000/12860 (100%)]\tLoss: 0.929928\n",
      "Train set:\n",
      "Average loss: 0.8133, Accuracy: 6430/12860 (50%)\n",
      "\n",
      "Validate set:\n",
      "Average loss: 0.8159, Accuracy: 3215/6430 (50%)\n",
      "\n",
      "Train Epoch: 37 [0/12860 (0%)]\tLoss: 0.750762\n",
      "Train Epoch: 37 [12000/12860 (100%)]\tLoss: 0.929928\n",
      "Train set:\n",
      "Average loss: 0.8133, Accuracy: 6430/12860 (50%)\n",
      "\n",
      "Validate set:\n",
      "Average loss: 0.8159, Accuracy: 3215/6430 (50%)\n",
      "\n",
      "Train Epoch: 38 [0/12860 (0%)]\tLoss: 0.750762\n"
     ]
    },
    {
     "name": "stdout",
     "output_type": "stream",
     "text": [
      "Train Epoch: 38 [12000/12860 (100%)]\tLoss: 0.929928\n",
      "Train set:\n",
      "Average loss: 0.8133, Accuracy: 6430/12860 (50%)\n",
      "\n",
      "Validate set:\n",
      "Average loss: 0.8159, Accuracy: 3215/6430 (50%)\n",
      "\n",
      "Train Epoch: 39 [0/12860 (0%)]\tLoss: 0.750762\n",
      "Train Epoch: 39 [12000/12860 (100%)]\tLoss: 0.929928\n",
      "Train set:\n",
      "Average loss: 0.8133, Accuracy: 6430/12860 (50%)\n",
      "\n",
      "Validate set:\n",
      "Average loss: 0.8159, Accuracy: 3215/6430 (50%)\n",
      "\n",
      "Train Epoch: 40 [0/12860 (0%)]\tLoss: 0.750762\n",
      "Train Epoch: 40 [12000/12860 (100%)]\tLoss: 0.929928\n",
      "Train set:\n",
      "Average loss: 0.8133, Accuracy: 6430/12860 (50%)\n",
      "\n",
      "Validate set:\n",
      "Average loss: 0.8159, Accuracy: 3215/6430 (50%)\n",
      "\n",
      "Train Epoch: 41 [0/12860 (0%)]\tLoss: 0.750762\n",
      "Train Epoch: 41 [12000/12860 (100%)]\tLoss: 0.929928\n",
      "Train set:\n",
      "Average loss: 0.8133, Accuracy: 6430/12860 (50%)\n",
      "\n",
      "Validate set:\n",
      "Average loss: 0.8159, Accuracy: 3215/6430 (50%)\n",
      "\n",
      "Train Epoch: 42 [0/12860 (0%)]\tLoss: 0.750762\n",
      "Train Epoch: 42 [12000/12860 (100%)]\tLoss: 0.929928\n",
      "Train set:\n",
      "Average loss: 0.8133, Accuracy: 6430/12860 (50%)\n",
      "\n",
      "Validate set:\n",
      "Average loss: 0.8159, Accuracy: 3215/6430 (50%)\n",
      "\n",
      "Train Epoch: 43 [0/12860 (0%)]\tLoss: 0.750762\n",
      "Train Epoch: 43 [12000/12860 (100%)]\tLoss: 0.929928\n",
      "Train set:\n",
      "Average loss: 0.8133, Accuracy: 6430/12860 (50%)\n",
      "\n",
      "Validate set:\n",
      "Average loss: 0.8159, Accuracy: 3215/6430 (50%)\n",
      "\n",
      "Train Epoch: 44 [0/12860 (0%)]\tLoss: 0.750762\n",
      "Train Epoch: 44 [12000/12860 (100%)]\tLoss: 0.929928\n",
      "Train set:\n",
      "Average loss: 0.8133, Accuracy: 6430/12860 (50%)\n",
      "\n",
      "Validate set:\n",
      "Average loss: 0.8159, Accuracy: 3215/6430 (50%)\n",
      "\n",
      "Train Epoch: 45 [0/12860 (0%)]\tLoss: 0.750762\n",
      "Train Epoch: 45 [12000/12860 (100%)]\tLoss: 0.929928\n",
      "Train set:\n",
      "Average loss: 0.8133, Accuracy: 6430/12860 (50%)\n",
      "\n",
      "Validate set:\n",
      "Average loss: 0.8159, Accuracy: 3215/6430 (50%)\n",
      "\n",
      "Train Epoch: 46 [0/12860 (0%)]\tLoss: 0.750762\n",
      "Train Epoch: 46 [12000/12860 (100%)]\tLoss: 0.929928\n",
      "Train set:\n",
      "Average loss: 0.8133, Accuracy: 6430/12860 (50%)\n",
      "\n",
      "Validate set:\n",
      "Average loss: 0.8159, Accuracy: 3215/6430 (50%)\n",
      "\n",
      "Train Epoch: 47 [0/12860 (0%)]\tLoss: 0.750762\n",
      "Train Epoch: 47 [12000/12860 (100%)]\tLoss: 0.929928\n",
      "Train set:\n",
      "Average loss: 0.8133, Accuracy: 6430/12860 (50%)\n",
      "\n",
      "Validate set:\n",
      "Average loss: 0.8159, Accuracy: 3215/6430 (50%)\n",
      "\n",
      "Train Epoch: 48 [0/12860 (0%)]\tLoss: 0.750762\n",
      "Train Epoch: 48 [12000/12860 (100%)]\tLoss: 0.929928\n",
      "Train set:\n",
      "Average loss: 0.8133, Accuracy: 6430/12860 (50%)\n",
      "\n",
      "Validate set:\n",
      "Average loss: 0.8159, Accuracy: 3215/6430 (50%)\n",
      "\n",
      "Train Epoch: 49 [0/12860 (0%)]\tLoss: 0.750762\n",
      "Train Epoch: 49 [12000/12860 (100%)]\tLoss: 0.929928\n",
      "Train set:\n",
      "Average loss: 0.8133, Accuracy: 6430/12860 (50%)\n",
      "\n",
      "Validate set:\n",
      "Average loss: 0.8159, Accuracy: 3215/6430 (50%)\n",
      "\n",
      "Train Epoch: 50 [0/12860 (0%)]\tLoss: 0.750762\n",
      "Train Epoch: 50 [12000/12860 (100%)]\tLoss: 0.929928\n",
      "Train set:\n",
      "Average loss: 0.8133, Accuracy: 6430/12860 (50%)\n",
      "\n",
      "Validate set:\n",
      "Average loss: 0.8159, Accuracy: 3215/6430 (50%)\n",
      "\n"
     ]
    }
   ],
   "source": [
    "info_dict = main(model, train_loader, validate_loader, optimizer, loss_function, 50)"
   ]
  },
  {
   "cell_type": "code",
   "execution_count": 23,
   "id": "19d8c1a8",
   "metadata": {},
   "outputs": [],
   "source": [
    "from matplotlib import font_manager\n",
    "\n",
    "config = {\n",
    "    \"font.family\":'Times New Roman', # sans-serif/serif/cursive/fantasy/monospace\n",
    "    \"font.size\": 15, # medium/large/small\n",
    "    'font.style':'normal', # normal/italic/oblique\n",
    "    'font.weight':'normal', # bold\n",
    "    \"mathtext.fontset\":'cm',# 'cm' (Computer Modern)\n",
    "    \"font.serif\": ['cmb10'], # 'Simsun'宋体\n",
    "    \"axes.unicode_minus\": False,# 用来正常显示负号\n",
    "}\n",
    "\n",
    "# plot\n",
    "def EA_curve(train_loss_vector, validate_loss_vector, train_acc_vector, validate_acc_vector, num_epochs):\n",
    "    plt.figure(figsize=(5, 3))\n",
    "    plt.rcParams.update(config)\n",
    "    plt.plot(np.arange(1, num_epochs+1), train_loss_vector, label=\"Train error\", color='r')\n",
    "    plt.plot(np.arange(1, num_epochs+1), validate_loss_vector, label=\"Validation error\", color='blue')\n",
    "    plt.title(\"Error\")\n",
    "    plt.legend(loc=\"best\")\n",
    "    plt.xlabel(\"Epoch\")\n",
    "    plt.ylabel(\"Error\")\n",
    "    \n",
    "    plt.figure(figsize=(5,3))\n",
    "    plt.plot(np.arange(1,num_epochs+1), train_acc_vector,label=\"Train accuracy\", color='r')\n",
    "    plt.plot(np.arange(1,num_epochs+1), validate_acc_vector,label=\"Validation accuracy\", color='blue')\n",
    "    plt.title('Accuracy')\n",
    "    plt.legend(loc = \"best\")\n",
    "    plt.xlabel(\"Epoch\")\n",
    "    plt.ylabel(\"Accuracy\")"
   ]
  },
  {
   "cell_type": "code",
   "execution_count": 24,
   "id": "45de2875",
   "metadata": {},
   "outputs": [
    {
     "data": {
      "image/png": "[encoded data removed]",
      "text/plain": [
       "<Figure size 500x300 with 1 Axes>"
      ]
     },
     "metadata": {},
     "output_type": "display_data"
    },
    {
     "data": {
      "image/png": "[encoded data removed]",
      "text/plain": [
       "<Figure size 500x300 with 1 Axes>"
      ]
     },
     "metadata": {},
     "output_type": "display_data"
    }
   ],
   "source": [
    "EA_curve(info_dict['train'][0], info_dict['validate'][0], info_dict['train'][1], info_dict['validate'][1], 50)"
   ]
  },
  {
   "cell_type": "code",
   "execution_count": 86,
   "id": "140e4b90",
   "metadata": {},
   "outputs": [],
   "source": [
    "# accuracy calculation\n",
    "# !!! it requires the input object still possessing the \"data\" and \"targets\" attributes\n",
    "def accuracyCal(model, test_data):\n",
    "    model.eval()\n",
    "    output = model(test_data.data/255)\n",
    "    pred = output.data.max(1)[1]\n",
    "    accuracy = pred.eq(test_data.targets).cpu().sum().to(torch.float32) / len(test_data)\n",
    "    print(accuracy)"
   ]
  },
  {
   "cell_type": "code",
   "execution_count": 87,
   "id": "27ac65e8",
   "metadata": {},
   "outputs": [],
   "source": [
    "# type(test_data)\n",
    "# accuracyCal(model, test_data)"
   ]
  },
  {
   "cell_type": "code",
   "execution_count": 88,
   "id": "4f5c28eb",
   "metadata": {},
   "outputs": [
    {
     "name": "stdout",
     "output_type": "stream",
     "text": [
      "Accuracy：95.51%\n"
     ]
    }
   ],
   "source": [
    "# accuracy calculation\n",
    "model.eval()\n",
    "correct = 0\n",
    "total = 0\n",
    "for images, labels in test_loader:\n",
    "    images = images.float()\n",
    "    outputs = model(images).cpu()\n",
    "    _, predicted = torch.max(outputs.data, 1)\n",
    "    total += labels.size(0)\n",
    "    correct += (predicted == labels).sum()\n",
    "\n",
    "print('Accuracy：%.2f%%' % (100 * correct / total))"
   ]
  },
  {
   "cell_type": "code",
   "execution_count": 40,
   "id": "a1e95562",
   "metadata": {},
   "outputs": [
    {
     "name": "stdout",
     "output_type": "stream",
     "text": [
      "Accuracy：50.00%\n"
     ]
    }
   ],
   "source": [
    "### Test\n",
    "# accuracy calculation\n",
    "model.eval()\n",
    "correct = 0\n",
    "total = 0\n",
    "for images, labels in test_loader:\n",
    "    images = images.float()\n",
    "    outputs = model_re(images).cpu()\n",
    "    _, predicted = torch.max(outputs.data, 1)\n",
    "    total += labels.size(0)\n",
    "    correct += (predicted == labels).sum()\n",
    "\n",
    "print('Accuracy：%.2f%%' % (100 * correct / total))"
   ]
  },
  {
   "cell_type": "code",
   "execution_count": 28,
   "id": "f1f8ed1d",
   "metadata": {},
   "outputs": [],
   "source": [
    "# Save trained model\n",
    "# torch.save(model.state_dict(), 'results/LeNet5-cellimage.pkl')\n",
    "# torch.save(model, 'results/LeNet5-cellimage.pkl')\n",
    "model_re = torch.load('results/LeNet5-cellimage.pkl')"
   ]
  },
  {
   "cell_type": "code",
   "execution_count": 22,
   "id": "3fa8782d",
   "metadata": {},
   "outputs": [
    {
     "ename": "IndentationError",
     "evalue": "unexpected indent (375937961.py, line 30)",
     "output_type": "error",
     "traceback": [
      "\u001b[1;36m  Cell \u001b[1;32mIn [22], line 30\u001b[1;36m\u001b[0m\n\u001b[1;33m    plt.savefig('uninfected-example.png', dpi=300)\u001b[0m\n\u001b[1;37m    ^\u001b[0m\n\u001b[1;31mIndentationError\u001b[0m\u001b[1;31m:\u001b[0m unexpected indent\n"
     ]
    }
   ],
   "source": [
    "# Test\n",
    "from matplotlib import font_manager\n",
    "\n",
    "config = {\n",
    "    \"font.family\":'Times New Roman', # sans-serif/serif/cursive/fantasy/monospace\n",
    "    \"font.size\": 20, # medium/large/small\n",
    "    'font.style':'normal', # normal/italic/oblique\n",
    "    'font.weight':'normal', # bold\n",
    "    \"mathtext.fontset\":'cm',# 'cm' (Computer Modern)\n",
    "    \"font.serif\": ['cmb10'], # 'Simsun'宋体\n",
    "    \"axes.unicode_minus\": False,# 用来正常显示负号\n",
    "}\n",
    "\n",
    "\n",
    "to_pil_image = transforms.ToPILImage()\n",
    "\n",
    "i = 0\n",
    "for image, label in train_loader:\n",
    "    i+=1\n",
    "    # 方法2：plt.imshow(ndarray)\n",
    "    img = image[0]  # plt.imshow()只能接受3-D Tensor，所以也要用image[0]消去batch那一维\n",
    "    img = img.numpy()  # FloatTensor转为ndarray\n",
    "    img = np.transpose(img, (1, 2, 0))  # 把channel那一维放到最后\n",
    "#     if i == 5:\n",
    "    # 显示图片\n",
    "    plt.rcParams.update(config)\n",
    "    plt.imshow(img)\n",
    "    plot.title(img, fontsize=16)\n",
    "#         plt.show()\n",
    "#     plt.savefig('infected-example.png', dpi=300)\n",
    "    plt.savefig('uninfected-example.png', dpi=300)\n",
    "#     break"
   ]
  },
  {
   "cell_type": "code",
   "execution_count": 29,
   "id": "903bb1aa",
   "metadata": {},
   "outputs": [],
   "source": [
    "image, label = test_data[0]\n",
    "# plt.figure(figsize=(1,1))\n",
    "# plt.imshow(image.squeeze(), cmap=\"gray_r\") \n",
    "# plt.title(label)"
   ]
  },
  {
   "cell_type": "code",
   "execution_count": 30,
   "id": "6dbc5b76",
   "metadata": {},
   "outputs": [
    {
     "data": {
      "text/plain": [
       "torch.Size([3, 28, 28])"
      ]
     },
     "execution_count": 30,
     "metadata": {},
     "output_type": "execute_result"
    }
   ],
   "source": [
    "image\n",
    "image.size()"
   ]
  },
  {
   "cell_type": "code",
   "execution_count": 37,
   "id": "deb5a610",
   "metadata": {},
   "outputs": [
    {
     "data": {
      "text/plain": [
       "LeNet5(\n",
       "  (model): Sequential(\n",
       "    (0): Conv2d(3, 6, kernel_size=(3, 3), stride=(1, 1))\n",
       "    (1): MaxPool2d(kernel_size=2, stride=2, padding=0, dilation=1, ceil_mode=False)\n",
       "    (2): ReLU()\n",
       "    (3): Conv2d(6, 16, kernel_size=(3, 3), stride=(1, 1))\n",
       "    (4): MaxPool2d(kernel_size=2, stride=2, padding=0, dilation=1, ceil_mode=False)\n",
       "    (5): ReLU()\n",
       "    (6): Flatten(start_dim=1, end_dim=-1)\n",
       "    (7): Linear(in_features=400, out_features=120, bias=True)\n",
       "    (8): ReLU()\n",
       "    (9): Linear(in_features=120, out_features=84, bias=True)\n",
       "    (10): ReLU()\n",
       "    (11): Dropout(p=0.7, inplace=False)\n",
       "    (12): Linear(in_features=84, out_features=2, bias=True)\n",
       "  )\n",
       ")"
      ]
     },
     "execution_count": 37,
     "metadata": {},
     "output_type": "execute_result"
    }
   ],
   "source": [
    "model_re.eval()"
   ]
  },
  {
   "cell_type": "code",
   "execution_count": 39,
   "id": "ad56d564",
   "metadata": {},
   "outputs": [
    {
     "ename": "RuntimeError",
     "evalue": "mat1 and mat2 shapes cannot be multiplied (16x25 and 400x120)",
     "output_type": "error",
     "traceback": [
      "\u001b[1;31m---------------------------------------------------------------------------\u001b[0m",
      "\u001b[1;31mRuntimeError\u001b[0m                              Traceback (most recent call last)",
      "Cell \u001b[1;32mIn [39], line 1\u001b[0m\n\u001b[1;32m----> 1\u001b[0m \u001b[43mmodel_re\u001b[49m\u001b[43m(\u001b[49m\u001b[43mimage\u001b[49m\u001b[43m)\u001b[49m\u001b[38;5;241m.\u001b[39mcpu()\n",
      "File \u001b[1;32mC:\\DataScience\\Anaconda\\envs\\deeplearning\\lib\\site-packages\\torch\\nn\\modules\\module.py:1190\u001b[0m, in \u001b[0;36mModule._call_impl\u001b[1;34m(self, *input, **kwargs)\u001b[0m\n\u001b[0;32m   1186\u001b[0m \u001b[38;5;66;03m# If we don't have any hooks, we want to skip the rest of the logic in\u001b[39;00m\n\u001b[0;32m   1187\u001b[0m \u001b[38;5;66;03m# this function, and just call forward.\u001b[39;00m\n\u001b[0;32m   1188\u001b[0m \u001b[38;5;28;01mif\u001b[39;00m \u001b[38;5;129;01mnot\u001b[39;00m (\u001b[38;5;28mself\u001b[39m\u001b[38;5;241m.\u001b[39m_backward_hooks \u001b[38;5;129;01mor\u001b[39;00m \u001b[38;5;28mself\u001b[39m\u001b[38;5;241m.\u001b[39m_forward_hooks \u001b[38;5;129;01mor\u001b[39;00m \u001b[38;5;28mself\u001b[39m\u001b[38;5;241m.\u001b[39m_forward_pre_hooks \u001b[38;5;129;01mor\u001b[39;00m _global_backward_hooks\n\u001b[0;32m   1189\u001b[0m         \u001b[38;5;129;01mor\u001b[39;00m _global_forward_hooks \u001b[38;5;129;01mor\u001b[39;00m _global_forward_pre_hooks):\n\u001b[1;32m-> 1190\u001b[0m     \u001b[38;5;28;01mreturn\u001b[39;00m forward_call(\u001b[38;5;241m*\u001b[39m\u001b[38;5;28minput\u001b[39m, \u001b[38;5;241m*\u001b[39m\u001b[38;5;241m*\u001b[39mkwargs)\n\u001b[0;32m   1191\u001b[0m \u001b[38;5;66;03m# Do not call functions when jit is used\u001b[39;00m\n\u001b[0;32m   1192\u001b[0m full_backward_hooks, non_full_backward_hooks \u001b[38;5;241m=\u001b[39m [], []\n",
      "Cell \u001b[1;32mIn [22], line 29\u001b[0m, in \u001b[0;36mLeNet5.forward\u001b[1;34m(self, x)\u001b[0m\n\u001b[0;32m     28\u001b[0m \u001b[38;5;28;01mdef\u001b[39;00m \u001b[38;5;21mforward\u001b[39m(\u001b[38;5;28mself\u001b[39m, x):\n\u001b[1;32m---> 29\u001b[0m     x \u001b[38;5;241m=\u001b[39m \u001b[38;5;28;43mself\u001b[39;49m\u001b[38;5;241;43m.\u001b[39;49m\u001b[43mmodel\u001b[49m\u001b[43m(\u001b[49m\u001b[43mx\u001b[49m\u001b[43m)\u001b[49m\n\u001b[0;32m     30\u001b[0m     x_softmax \u001b[38;5;241m=\u001b[39m F\u001b[38;5;241m.\u001b[39msoftmax(x, dim\u001b[38;5;241m=\u001b[39m\u001b[38;5;241m1\u001b[39m)\n\u001b[0;32m     31\u001b[0m     \u001b[38;5;28;01mreturn\u001b[39;00m x_softmax\n",
      "File \u001b[1;32mC:\\DataScience\\Anaconda\\envs\\deeplearning\\lib\\site-packages\\torch\\nn\\modules\\module.py:1190\u001b[0m, in \u001b[0;36mModule._call_impl\u001b[1;34m(self, *input, **kwargs)\u001b[0m\n\u001b[0;32m   1186\u001b[0m \u001b[38;5;66;03m# If we don't have any hooks, we want to skip the rest of the logic in\u001b[39;00m\n\u001b[0;32m   1187\u001b[0m \u001b[38;5;66;03m# this function, and just call forward.\u001b[39;00m\n\u001b[0;32m   1188\u001b[0m \u001b[38;5;28;01mif\u001b[39;00m \u001b[38;5;129;01mnot\u001b[39;00m (\u001b[38;5;28mself\u001b[39m\u001b[38;5;241m.\u001b[39m_backward_hooks \u001b[38;5;129;01mor\u001b[39;00m \u001b[38;5;28mself\u001b[39m\u001b[38;5;241m.\u001b[39m_forward_hooks \u001b[38;5;129;01mor\u001b[39;00m \u001b[38;5;28mself\u001b[39m\u001b[38;5;241m.\u001b[39m_forward_pre_hooks \u001b[38;5;129;01mor\u001b[39;00m _global_backward_hooks\n\u001b[0;32m   1189\u001b[0m         \u001b[38;5;129;01mor\u001b[39;00m _global_forward_hooks \u001b[38;5;129;01mor\u001b[39;00m _global_forward_pre_hooks):\n\u001b[1;32m-> 1190\u001b[0m     \u001b[38;5;28;01mreturn\u001b[39;00m forward_call(\u001b[38;5;241m*\u001b[39m\u001b[38;5;28minput\u001b[39m, \u001b[38;5;241m*\u001b[39m\u001b[38;5;241m*\u001b[39mkwargs)\n\u001b[0;32m   1191\u001b[0m \u001b[38;5;66;03m# Do not call functions when jit is used\u001b[39;00m\n\u001b[0;32m   1192\u001b[0m full_backward_hooks, non_full_backward_hooks \u001b[38;5;241m=\u001b[39m [], []\n",
      "File \u001b[1;32mC:\\DataScience\\Anaconda\\envs\\deeplearning\\lib\\site-packages\\torch\\nn\\modules\\container.py:204\u001b[0m, in \u001b[0;36mSequential.forward\u001b[1;34m(self, input)\u001b[0m\n\u001b[0;32m    202\u001b[0m \u001b[38;5;28;01mdef\u001b[39;00m \u001b[38;5;21mforward\u001b[39m(\u001b[38;5;28mself\u001b[39m, \u001b[38;5;28minput\u001b[39m):\n\u001b[0;32m    203\u001b[0m     \u001b[38;5;28;01mfor\u001b[39;00m module \u001b[38;5;129;01min\u001b[39;00m \u001b[38;5;28mself\u001b[39m:\n\u001b[1;32m--> 204\u001b[0m         \u001b[38;5;28minput\u001b[39m \u001b[38;5;241m=\u001b[39m \u001b[43mmodule\u001b[49m\u001b[43m(\u001b[49m\u001b[38;5;28;43minput\u001b[39;49m\u001b[43m)\u001b[49m\n\u001b[0;32m    205\u001b[0m     \u001b[38;5;28;01mreturn\u001b[39;00m \u001b[38;5;28minput\u001b[39m\n",
      "File \u001b[1;32mC:\\DataScience\\Anaconda\\envs\\deeplearning\\lib\\site-packages\\torch\\nn\\modules\\module.py:1190\u001b[0m, in \u001b[0;36mModule._call_impl\u001b[1;34m(self, *input, **kwargs)\u001b[0m\n\u001b[0;32m   1186\u001b[0m \u001b[38;5;66;03m# If we don't have any hooks, we want to skip the rest of the logic in\u001b[39;00m\n\u001b[0;32m   1187\u001b[0m \u001b[38;5;66;03m# this function, and just call forward.\u001b[39;00m\n\u001b[0;32m   1188\u001b[0m \u001b[38;5;28;01mif\u001b[39;00m \u001b[38;5;129;01mnot\u001b[39;00m (\u001b[38;5;28mself\u001b[39m\u001b[38;5;241m.\u001b[39m_backward_hooks \u001b[38;5;129;01mor\u001b[39;00m \u001b[38;5;28mself\u001b[39m\u001b[38;5;241m.\u001b[39m_forward_hooks \u001b[38;5;129;01mor\u001b[39;00m \u001b[38;5;28mself\u001b[39m\u001b[38;5;241m.\u001b[39m_forward_pre_hooks \u001b[38;5;129;01mor\u001b[39;00m _global_backward_hooks\n\u001b[0;32m   1189\u001b[0m         \u001b[38;5;129;01mor\u001b[39;00m _global_forward_hooks \u001b[38;5;129;01mor\u001b[39;00m _global_forward_pre_hooks):\n\u001b[1;32m-> 1190\u001b[0m     \u001b[38;5;28;01mreturn\u001b[39;00m forward_call(\u001b[38;5;241m*\u001b[39m\u001b[38;5;28minput\u001b[39m, \u001b[38;5;241m*\u001b[39m\u001b[38;5;241m*\u001b[39mkwargs)\n\u001b[0;32m   1191\u001b[0m \u001b[38;5;66;03m# Do not call functions when jit is used\u001b[39;00m\n\u001b[0;32m   1192\u001b[0m full_backward_hooks, non_full_backward_hooks \u001b[38;5;241m=\u001b[39m [], []\n",
      "File \u001b[1;32mC:\\DataScience\\Anaconda\\envs\\deeplearning\\lib\\site-packages\\torch\\nn\\modules\\linear.py:114\u001b[0m, in \u001b[0;36mLinear.forward\u001b[1;34m(self, input)\u001b[0m\n\u001b[0;32m    113\u001b[0m \u001b[38;5;28;01mdef\u001b[39;00m \u001b[38;5;21mforward\u001b[39m(\u001b[38;5;28mself\u001b[39m, \u001b[38;5;28minput\u001b[39m: Tensor) \u001b[38;5;241m-\u001b[39m\u001b[38;5;241m>\u001b[39m Tensor:\n\u001b[1;32m--> 114\u001b[0m     \u001b[38;5;28;01mreturn\u001b[39;00m \u001b[43mF\u001b[49m\u001b[38;5;241;43m.\u001b[39;49m\u001b[43mlinear\u001b[49m\u001b[43m(\u001b[49m\u001b[38;5;28;43minput\u001b[39;49m\u001b[43m,\u001b[49m\u001b[43m \u001b[49m\u001b[38;5;28;43mself\u001b[39;49m\u001b[38;5;241;43m.\u001b[39;49m\u001b[43mweight\u001b[49m\u001b[43m,\u001b[49m\u001b[43m \u001b[49m\u001b[38;5;28;43mself\u001b[39;49m\u001b[38;5;241;43m.\u001b[39;49m\u001b[43mbias\u001b[49m\u001b[43m)\u001b[49m\n",
      "\u001b[1;31mRuntimeError\u001b[0m: mat1 and mat2 shapes cannot be multiplied (16x25 and 400x120)"
     ]
    }
   ],
   "source": [
    "model_re(image).cpu()"
   ]
  },
  {
   "cell_type": "code",
   "execution_count": null,
   "id": "929b0b8e",
   "metadata": {},
   "outputs": [],
   "source": []
  }
 ],
 "metadata": {
  "kernelspec": {
   "display_name": "selfmade-deeplearning",
   "language": "python",
   "name": "deeplearning"
  },
  "language_info": {
   "codemirror_mode": {
    "name": "ipython",
    "version": 3
   },
   "file_extension": ".py",
   "mimetype": "text/x-python",
   "name": "python",
   "nbconvert_exporter": "python",
   "pygments_lexer": "ipython3",
   "version": "3.10.8"
  }
 },
 "nbformat": 4,
 "nbformat_minor": 5
}
